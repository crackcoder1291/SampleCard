{
 "cells": [
  {
   "cell_type": "code",
   "execution_count": 1,
   "metadata": {
    "collapsed": false
   },
   "outputs": [
    {
     "name": "stderr",
     "output_type": "stream",
     "text": [
      "Loading required package: lattice\n",
      "Loading required package: ggplot2\n"
     ]
    }
   ],
   "source": [
    "library(ISLR);\n",
    "library(caret);\n",
    "data(Wage);\n",
    "inTrain <- createDataPartition(y=Wage$wage,p=0.7,list=FALSE)\n",
    "training <- Wage[inTrain,];\n",
    "testing <- Wage[-inTrain,]"
   ]
  },
  {
   "cell_type": "code",
   "execution_count": 2,
   "metadata": {
    "collapsed": false
   },
   "outputs": [
    {
     "data": {
      "text/plain": [
       "\n",
       " 1. Industrial 2. Information \n",
       "          1089           1013 "
      ]
     },
     "metadata": {},
     "output_type": "display_data"
    }
   ],
   "source": [
    "table(training$jobclass)"
   ]
  },
  {
   "cell_type": "code",
   "execution_count": 3,
   "metadata": {
    "collapsed": false
   },
   "outputs": [
    {
     "data": {
      "text/html": [
       "<table>\n",
       "<thead><tr><th></th><th scope=col>jobclass.1. Industrial</th><th scope=col>jobclass.2. Information</th></tr></thead>\n",
       "<tbody>\n",
       "\t<tr><th scope=row>231655</th><td>1</td><td>0</td></tr>\n",
       "\t<tr><th scope=row>155159</th><td>0</td><td>1</td></tr>\n",
       "\t<tr><th scope=row>376662</th><td>0</td><td>1</td></tr>\n",
       "\t<tr><th scope=row>450601</th><td>1</td><td>0</td></tr>\n",
       "\t<tr><th scope=row>377954</th><td>0</td><td>1</td></tr>\n",
       "\t<tr><th scope=row>228963</th><td>0</td><td>1</td></tr>\n",
       "</tbody>\n",
       "</table>\n"
      ],
      "text/latex": [
       "\\begin{tabular}{r|ll}\n",
       "  & jobclass.1. Industrial & jobclass.2. Information\\\\\n",
       "\\hline\n",
       "\t231655 & 1 & 0\\\\\n",
       "\t155159 & 0 & 1\\\\\n",
       "\t376662 & 0 & 1\\\\\n",
       "\t450601 & 1 & 0\\\\\n",
       "\t377954 & 0 & 1\\\\\n",
       "\t228963 & 0 & 1\\\\\n",
       "\\end{tabular}\n"
      ],
      "text/markdown": [
       "1. 1\n",
       "2. 0\n",
       "3. 0\n",
       "4. 1\n",
       "5. 0\n",
       "6. 0\n",
       "7. 0\n",
       "8. 1\n",
       "9. 1\n",
       "10. 0\n",
       "11. 1\n",
       "12. 1\n",
       "\n",
       "\n"
      ],
      "text/plain": [
       "       jobclass.1. Industrial jobclass.2. Information\n",
       "231655                      1                       0\n",
       "155159                      0                       1\n",
       "376662                      0                       1\n",
       "450601                      1                       0\n",
       "377954                      0                       1\n",
       "228963                      0                       1"
      ]
     },
     "metadata": {},
     "output_type": "display_data"
    }
   ],
   "source": [
    "dummies <- dummyVars(wage ~ jobclass,data=training)\n",
    "head(predict(dummies,newdata=training))"
   ]
  },
  {
   "cell_type": "code",
   "execution_count": 4,
   "metadata": {
    "collapsed": false
   },
   "outputs": [
    {
     "data": {
      "text/html": [
       "<table>\n",
       "<thead><tr><th></th><th scope=col>freqRatio</th><th scope=col>percentUnique</th><th scope=col>zeroVar</th><th scope=col>nzv</th></tr></thead>\n",
       "<tbody>\n",
       "\t<tr><th scope=row>year</th><td>1.1377246</td><td>0.3330162</td><td>0.0000000</td><td>0.0000000</td></tr>\n",
       "\t<tr><th scope=row>age</th><td>1.171429</td><td>2.901998</td><td>0.000000</td><td>0.000000</td></tr>\n",
       "\t<tr><th scope=row>sex</th><td>0.00000000</td><td>0.04757374</td><td>1.00000000</td><td>1.00000000</td></tr>\n",
       "\t<tr><th scope=row>maritl</th><td>3.0659574</td><td>0.2378687</td><td>0.0000000</td><td>0.0000000</td></tr>\n",
       "\t<tr><th scope=row>race</th><td>8.868020</td><td>0.190295</td><td>0.000000</td><td>0.000000</td></tr>\n",
       "\t<tr><th scope=row>education</th><td>1.4288660</td><td>0.2378687</td><td>0.0000000</td><td>0.0000000</td></tr>\n",
       "\t<tr><th scope=row>region</th><td>0.00000000</td><td>0.04757374</td><td>1.00000000</td><td>1.00000000</td></tr>\n",
       "\t<tr><th scope=row>jobclass</th><td>1.07502468</td><td>0.09514748</td><td>0.00000000</td><td>0.00000000</td></tr>\n",
       "\t<tr><th scope=row>health</th><td>2.44026187</td><td>0.09514748</td><td>0.00000000</td><td>0.00000000</td></tr>\n",
       "\t<tr><th scope=row>health_ins</th><td>2.26397516</td><td>0.09514748</td><td>0.00000000</td><td>0.00000000</td></tr>\n",
       "\t<tr><th scope=row>logwage</th><td> 1.075949</td><td>18.744053</td><td> 0.000000</td><td> 0.000000</td></tr>\n",
       "\t<tr><th scope=row>wage</th><td> 1.075949</td><td>18.744053</td><td> 0.000000</td><td> 0.000000</td></tr>\n",
       "</tbody>\n",
       "</table>\n"
      ],
      "text/latex": [
       "\\begin{tabular}{r|llll}\n",
       "  & freqRatio & percentUnique & zeroVar & nzv\\\\\n",
       "\\hline\n",
       "\tyear & 1.1377246 & 0.3330162 & 0.0000000 & 0.0000000\\\\\n",
       "\tage & 1.171429 & 2.901998 & 0.000000 & 0.000000\\\\\n",
       "\tsex & 0.00000000 & 0.04757374 & 1.00000000 & 1.00000000\\\\\n",
       "\tmaritl & 3.0659574 & 0.2378687 & 0.0000000 & 0.0000000\\\\\n",
       "\trace & 8.868020 & 0.190295 & 0.000000 & 0.000000\\\\\n",
       "\teducation & 1.4288660 & 0.2378687 & 0.0000000 & 0.0000000\\\\\n",
       "\tregion & 0.00000000 & 0.04757374 & 1.00000000 & 1.00000000\\\\\n",
       "\tjobclass & 1.07502468 & 0.09514748 & 0.00000000 & 0.00000000\\\\\n",
       "\thealth & 2.44026187 & 0.09514748 & 0.00000000 & 0.00000000\\\\\n",
       "\thealth\\_ins & 2.26397516 & 0.09514748 & 0.00000000 & 0.00000000\\\\\n",
       "\tlogwage &  1.075949 & 18.744053 &  0.000000 &  0.000000\\\\\n",
       "\twage &  1.075949 & 18.744053 &  0.000000 &  0.000000\\\\\n",
       "\\end{tabular}\n"
      ],
      "text/plain": [
       "           freqRatio percentUnique zeroVar   nzv\n",
       "year        1.137725    0.33301618   FALSE FALSE\n",
       "age         1.171429    2.90199810   FALSE FALSE\n",
       "sex         0.000000    0.04757374    TRUE  TRUE\n",
       "maritl      3.065957    0.23786870   FALSE FALSE\n",
       "race        8.868020    0.19029496   FALSE FALSE\n",
       "education   1.428866    0.23786870   FALSE FALSE\n",
       "region      0.000000    0.04757374    TRUE  TRUE\n",
       "jobclass    1.075025    0.09514748   FALSE FALSE\n",
       "health      2.440262    0.09514748   FALSE FALSE\n",
       "health_ins  2.263975    0.09514748   FALSE FALSE\n",
       "logwage     1.075949   18.74405328   FALSE FALSE\n",
       "wage        1.075949   18.74405328   FALSE FALSE"
      ]
     },
     "metadata": {},
     "output_type": "display_data"
    }
   ],
   "source": [
    "nsv <- nearZeroVar(training,saveMetrics=TRUE)\n",
    "nsv"
   ]
  },
  {
   "cell_type": "code",
   "execution_count": 5,
   "metadata": {
    "collapsed": false
   },
   "outputs": [
    {
     "data": {
      "text/html": [
       "<table>\n",
       "<thead><tr><th scope=col>1</th><th scope=col>2</th><th scope=col>3</th></tr></thead>\n",
       "<tbody>\n",
       "\t<tr><td>0</td><td>0</td><td>0</td></tr>\n",
       "\t<tr><td>0.430813836393542 </td><td>0.291090429995636 </td><td>0.0655609076566748</td></tr>\n",
       "\t<tr><td>0.306334127756705</td><td>0.424154946124668</td><td>0.195763821288309</td></tr>\n",
       "\t<tr><td>0.424154946124668 </td><td>0.306334127756705 </td><td>0.0737471048303179</td></tr>\n",
       "\t<tr><td>0.377630828102447  </td><td>0.0906313987445873 </td><td>0.00725051189956698</td></tr>\n",
       "\t<tr><td>0.440355308650264 </td><td>0.259696720486053 </td><td>0.0510514920613608</td></tr>\n",
       "\t<tr><td>0.335537578463294</td><td>0.407438488134   </td><td>0.164915578530429</td></tr>\n",
       "\t<tr><td>0.426168977207882 </td><td>0.148232687724481 </td><td>0.0171863985767514</td></tr>\n",
       "\t<tr><td>0.444358195428149 </td><td>0.227598100097345 </td><td>0.0388582122117418</td></tr>\n",
       "\t<tr><td>0.306334127756705</td><td>0.424154946124668</td><td>0.195763821288309</td></tr>\n",
       "\t<tr><td>0.349346279077574</td><td>0.397531972743446</td><td>0.150787989661307</td></tr>\n",
       "\t<tr><td>0.442218287402236 </td><td>0.195398778154476 </td><td>0.0287796649994965</td></tr>\n",
       "\t<tr><td>0.275519452183545</td><td>0.436239132623947</td><td>0.230237319995972</td></tr>\n",
       "\t<tr><td>0.442218287402236 </td><td>0.195398778154476 </td><td>0.0287796649994965</td></tr>\n",
       "\t<tr><td>0.443086838306871 </td><td>0.243697761068779 </td><td>0.0446779228626095</td></tr>\n",
       "\t<tr><td>0.0179374643348662</td><td>0.204487093417475 </td><td>0.777050954986405 </td></tr>\n",
       "\t<tr><td>0.444093853848478 </td><td>0.21147326373737  </td><td>0.0335671847202175</td></tr>\n",
       "\t<tr><td>0.375</td><td>0.375</td><td>0.125</td></tr>\n",
       "\t<tr><td>0.430813836393542 </td><td>0.291090429995636 </td><td>0.0655609076566748</td></tr>\n",
       "\t<tr><td>0.426168977207882 </td><td>0.148232687724481 </td><td>0.0171863985767514</td></tr>\n",
       "\t<tr><td>0.259696720486053</td><td>0.440355308650264</td><td>0.248896478802323</td></tr>\n",
       "\t<tr><td>0</td><td>0</td><td>0</td></tr>\n",
       "\t<tr><td>0.349346279077574</td><td>0.397531972743446</td><td>0.150787989661307</td></tr>\n",
       "\t<tr><td>0.417093249639153 </td><td>0.133114866906113 </td><td>0.0141611560538418</td></tr>\n",
       "\t<tr><td>0.426168977207882 </td><td>0.148232687724481 </td><td>0.0171863985767514</td></tr>\n",
       "\t<tr><td>0.275519452183545</td><td>0.436239132623947</td><td>0.230237319995972</td></tr>\n",
       "\t<tr><td>0.266544426168977  </td><td>0.0339238360578698 </td><td>0.00143919304487933</td></tr>\n",
       "\t<tr><td>0.318229498841932  </td><td>0.0540389715014602 </td><td>0.00305880970762982</td></tr>\n",
       "\t<tr><td>0.340371253063006  </td><td>0.0654560102044242 </td><td>0.00419589809002719</td></tr>\n",
       "\t<tr><td>0.430813836393542 </td><td>0.291090429995636 </td><td>0.0655609076566748</td></tr>\n",
       "\t<tr><td>⋮</td><td>⋮</td><td>⋮</td></tr>\n",
       "\t<tr><td>0.362525594978349</td><td>0.386693967976906</td><td>0.137491188614011</td></tr>\n",
       "\t<tr><td>0.426168977207882 </td><td>0.148232687724481 </td><td>0.0171863985767514</td></tr>\n",
       "\t<tr><td>0.0906313987445873  </td><td>0.00302104662481958 </td><td>3.35671847202175e-05</td></tr>\n",
       "\t<tr><td>0.443086838306871 </td><td>0.243697761068779 </td><td>0.0446779228626095</td></tr>\n",
       "\t<tr><td>0.426168977207882 </td><td>0.148232687724481 </td><td>0.0171863985767514</td></tr>\n",
       "\t<tr><td>0.259696720486053</td><td>0.440355308650264</td><td>0.248896478802323</td></tr>\n",
       "\t<tr><td>0.442218287402236 </td><td>0.195398778154476 </td><td>0.0287796649994965</td></tr>\n",
       "\t<tr><td>0.362525594978349</td><td>0.386693967976906</td><td>0.137491188614011</td></tr>\n",
       "\t<tr><td>0.227598100097345</td><td>0.444358195428149</td><td>0.289185492262764</td></tr>\n",
       "\t<tr><td>0.169380014098218  </td><td>0.0116813802826357 </td><td>0.00026853747776174</td></tr>\n",
       "\t<tr><td>0.306334127756705</td><td>0.424154946124668</td><td>0.195763821288309</td></tr>\n",
       "\t<tr><td>0.407438488134    </td><td>0.335537578463294 </td><td>0.0921083548722769</td></tr>\n",
       "\t<tr><td>0.433331375247558 </td><td>0.163702963982411 </td><td>0.0206144473163036</td></tr>\n",
       "\t<tr><td>0.375</td><td>0.375</td><td>0.125</td></tr>\n",
       "\t<tr><td>0.321175019301131</td><td>0.416337987982948</td><td>0.179899130609916</td></tr>\n",
       "\t<tr><td>0.443086838306871 </td><td>0.243697761068779 </td><td>0.0446779228626095</td></tr>\n",
       "\t<tr><td>0.335537578463294</td><td>0.407438488134   </td><td>0.164915578530429</td></tr>\n",
       "\t<tr><td>0.443086838306871 </td><td>0.243697761068779 </td><td>0.0446779228626095</td></tr>\n",
       "\t<tr><td>0.275519452183545</td><td>0.436239132623947</td><td>0.230237319995972</td></tr>\n",
       "\t<tr><td>0.377630828102447  </td><td>0.0906313987445873 </td><td>0.00725051189956698</td></tr>\n",
       "\t<tr><td>0.243697761068779</td><td>0.443086838306871</td><td>0.26853747776174 </td></tr>\n",
       "\t<tr><td>0.417093249639153 </td><td>0.133114866906113 </td><td>0.0141611560538418</td></tr>\n",
       "\t<tr><td>0.349346279077574</td><td>0.397531972743446</td><td>0.150787989661307</td></tr>\n",
       "\t<tr><td>0.406028666375751 </td><td>0.118425027692927 </td><td>0.0115135443590346</td></tr>\n",
       "\t<tr><td>0.362525594978349</td><td>0.386693967976906</td><td>0.137491188614011</td></tr>\n",
       "\t<tr><td>0.293645731932463  </td><td>0.0435030713974019 </td><td>0.00214829982209392</td></tr>\n",
       "\t<tr><td>0.392899701252056  </td><td>0.104238696250545  </td><td>0.00921838810378973</td></tr>\n",
       "\t<tr><td>0.424154946124668 </td><td>0.306334127756705 </td><td>0.0737471048303179</td></tr>\n",
       "\t<tr><td>0.377630828102447  </td><td>0.0906313987445873 </td><td>0.00725051189956698</td></tr>\n",
       "\t<tr><td>0.291090429995636</td><td>0.430813836393542</td><td>0.212534825954147</td></tr>\n",
       "</tbody>\n",
       "</table>\n"
      ],
      "text/latex": [
       "\\begin{tabular}{lll}\n",
       " 1 & 2 & 3\\\\\n",
       "\\hline\n",
       "\t 0 & 0 & 0\\\\\n",
       "\t 0.430813836393542  & 0.291090429995636  & 0.0655609076566748\\\\\n",
       "\t 0.306334127756705 & 0.424154946124668 & 0.195763821288309\\\\\n",
       "\t 0.424154946124668  & 0.306334127756705  & 0.0737471048303179\\\\\n",
       "\t 0.377630828102447   & 0.0906313987445873  & 0.00725051189956698\\\\\n",
       "\t 0.440355308650264  & 0.259696720486053  & 0.0510514920613608\\\\\n",
       "\t 0.335537578463294 & 0.407438488134    & 0.164915578530429\\\\\n",
       "\t 0.426168977207882  & 0.148232687724481  & 0.0171863985767514\\\\\n",
       "\t 0.444358195428149  & 0.227598100097345  & 0.0388582122117418\\\\\n",
       "\t 0.306334127756705 & 0.424154946124668 & 0.195763821288309\\\\\n",
       "\t 0.349346279077574 & 0.397531972743446 & 0.150787989661307\\\\\n",
       "\t 0.442218287402236  & 0.195398778154476  & 0.0287796649994965\\\\\n",
       "\t 0.275519452183545 & 0.436239132623947 & 0.230237319995972\\\\\n",
       "\t 0.442218287402236  & 0.195398778154476  & 0.0287796649994965\\\\\n",
       "\t 0.443086838306871  & 0.243697761068779  & 0.0446779228626095\\\\\n",
       "\t 0.0179374643348662 & 0.204487093417475  & 0.777050954986405 \\\\\n",
       "\t 0.444093853848478  & 0.21147326373737   & 0.0335671847202175\\\\\n",
       "\t 0.375 & 0.375 & 0.125\\\\\n",
       "\t 0.430813836393542  & 0.291090429995636  & 0.0655609076566748\\\\\n",
       "\t 0.426168977207882  & 0.148232687724481  & 0.0171863985767514\\\\\n",
       "\t 0.259696720486053 & 0.440355308650264 & 0.248896478802323\\\\\n",
       "\t 0 & 0 & 0\\\\\n",
       "\t 0.349346279077574 & 0.397531972743446 & 0.150787989661307\\\\\n",
       "\t 0.417093249639153  & 0.133114866906113  & 0.0141611560538418\\\\\n",
       "\t 0.426168977207882  & 0.148232687724481  & 0.0171863985767514\\\\\n",
       "\t 0.275519452183545 & 0.436239132623947 & 0.230237319995972\\\\\n",
       "\t 0.266544426168977   & 0.0339238360578698  & 0.00143919304487933\\\\\n",
       "\t 0.318229498841932   & 0.0540389715014602  & 0.00305880970762982\\\\\n",
       "\t 0.340371253063006   & 0.0654560102044242  & 0.00419589809002719\\\\\n",
       "\t 0.430813836393542  & 0.291090429995636  & 0.0655609076566748\\\\\n",
       "\t ⋮ & ⋮ & ⋮\\\\\n",
       "\t 0.362525594978349 & 0.386693967976906 & 0.137491188614011\\\\\n",
       "\t 0.426168977207882  & 0.148232687724481  & 0.0171863985767514\\\\\n",
       "\t 0.0906313987445873   & 0.00302104662481958  & 3.35671847202175e-05\\\\\n",
       "\t 0.443086838306871  & 0.243697761068779  & 0.0446779228626095\\\\\n",
       "\t 0.426168977207882  & 0.148232687724481  & 0.0171863985767514\\\\\n",
       "\t 0.259696720486053 & 0.440355308650264 & 0.248896478802323\\\\\n",
       "\t 0.442218287402236  & 0.195398778154476  & 0.0287796649994965\\\\\n",
       "\t 0.362525594978349 & 0.386693967976906 & 0.137491188614011\\\\\n",
       "\t 0.227598100097345 & 0.444358195428149 & 0.289185492262764\\\\\n",
       "\t 0.169380014098218   & 0.0116813802826357  & 0.00026853747776174\\\\\n",
       "\t 0.306334127756705 & 0.424154946124668 & 0.195763821288309\\\\\n",
       "\t 0.407438488134     & 0.335537578463294  & 0.0921083548722769\\\\\n",
       "\t 0.433331375247558  & 0.163702963982411  & 0.0206144473163036\\\\\n",
       "\t 0.375 & 0.375 & 0.125\\\\\n",
       "\t 0.321175019301131 & 0.416337987982948 & 0.179899130609916\\\\\n",
       "\t 0.443086838306871  & 0.243697761068779  & 0.0446779228626095\\\\\n",
       "\t 0.335537578463294 & 0.407438488134    & 0.164915578530429\\\\\n",
       "\t 0.443086838306871  & 0.243697761068779  & 0.0446779228626095\\\\\n",
       "\t 0.275519452183545 & 0.436239132623947 & 0.230237319995972\\\\\n",
       "\t 0.377630828102447   & 0.0906313987445873  & 0.00725051189956698\\\\\n",
       "\t 0.243697761068779 & 0.443086838306871 & 0.26853747776174 \\\\\n",
       "\t 0.417093249639153  & 0.133114866906113  & 0.0141611560538418\\\\\n",
       "\t 0.349346279077574 & 0.397531972743446 & 0.150787989661307\\\\\n",
       "\t 0.406028666375751  & 0.118425027692927  & 0.0115135443590346\\\\\n",
       "\t 0.362525594978349 & 0.386693967976906 & 0.137491188614011\\\\\n",
       "\t 0.293645731932463   & 0.0435030713974019  & 0.00214829982209392\\\\\n",
       "\t 0.392899701252056   & 0.104238696250545   & 0.00921838810378973\\\\\n",
       "\t 0.424154946124668  & 0.306334127756705  & 0.0737471048303179\\\\\n",
       "\t 0.377630828102447   & 0.0906313987445873  & 0.00725051189956698\\\\\n",
       "\t 0.291090429995636 & 0.430813836393542 & 0.212534825954147\\\\\n",
       "\\end{tabular}\n"
      ],
      "text/plain": [
       "      1                    2                     3                     \n",
       " [1,] \"0\"                  \"0\"                   \"0\"                   \n",
       " [2,] \"0.430813836393542\"  \"0.291090429995636\"   \"0.0655609076566748\"  \n",
       " [3,] \"0.306334127756705\"  \"0.424154946124668\"   \"0.195763821288309\"   \n",
       " [4,] \"0.424154946124668\"  \"0.306334127756705\"   \"0.0737471048303179\"  \n",
       " [5,] \"0.377630828102447\"  \"0.0906313987445873\"  \"0.00725051189956698\" \n",
       " [6,] \"0.440355308650264\"  \"0.259696720486053\"   \"0.0510514920613608\"  \n",
       " [7,] \"0.335537578463294\"  \"0.407438488134\"      \"0.164915578530429\"   \n",
       " [8,] \"0.426168977207882\"  \"0.148232687724481\"   \"0.0171863985767514\"  \n",
       " [9,] \"0.444358195428149\"  \"0.227598100097345\"   \"0.0388582122117418\"  \n",
       "[10,] \"0.306334127756705\"  \"0.424154946124668\"   \"0.195763821288309\"   \n",
       "[11,] \"0.349346279077574\"  \"0.397531972743446\"   \"0.150787989661307\"   \n",
       "[12,] \"0.442218287402236\"  \"0.195398778154476\"   \"0.0287796649994965\"  \n",
       "[13,] \"0.275519452183545\"  \"0.436239132623947\"   \"0.230237319995972\"   \n",
       "[14,] \"0.442218287402236\"  \"0.195398778154476\"   \"0.0287796649994965\"  \n",
       "[15,] \"0.443086838306871\"  \"0.243697761068779\"   \"0.0446779228626095\"  \n",
       "[16,] \"0.0179374643348662\" \"0.204487093417475\"   \"0.777050954986405\"   \n",
       "[17,] \"0.444093853848478\"  \"0.21147326373737\"    \"0.0335671847202175\"  \n",
       "[18,] \"0.375\"              \"0.375\"               \"0.125\"               \n",
       "[19,] \"0.430813836393542\"  \"0.291090429995636\"   \"0.0655609076566748\"  \n",
       "[20,] \"0.426168977207882\"  \"0.148232687724481\"   \"0.0171863985767514\"  \n",
       "[21,] \"0.259696720486053\"  \"0.440355308650264\"   \"0.248896478802323\"   \n",
       "[22,] \"0\"                  \"0\"                   \"0\"                   \n",
       "[23,] \"0.349346279077574\"  \"0.397531972743446\"   \"0.150787989661307\"   \n",
       "[24,] \"0.417093249639153\"  \"0.133114866906113\"   \"0.0141611560538418\"  \n",
       "[25,] \"0.426168977207882\"  \"0.148232687724481\"   \"0.0171863985767514\"  \n",
       "[26,] \"0.275519452183545\"  \"0.436239132623947\"   \"0.230237319995972\"   \n",
       "[27,] \"0.266544426168977\"  \"0.0339238360578698\"  \"0.00143919304487933\" \n",
       "[28,] \"0.318229498841932\"  \"0.0540389715014602\"  \"0.00305880970762982\" \n",
       "[29,] \"0.340371253063006\"  \"0.0654560102044242\"  \"0.00419589809002719\" \n",
       "[30,] \"0.430813836393542\"  \"0.291090429995636\"   \"0.0655609076566748\"  \n",
       "[31,] \"⋮\"                  \"⋮\"                   \"⋮\"                   \n",
       "[32,] \"0.362525594978349\"  \"0.386693967976906\"   \"0.137491188614011\"   \n",
       "[33,] \"0.426168977207882\"  \"0.148232687724481\"   \"0.0171863985767514\"  \n",
       "[34,] \"0.0906313987445873\" \"0.00302104662481958\" \"3.35671847202175e-05\"\n",
       "[35,] \"0.443086838306871\"  \"0.243697761068779\"   \"0.0446779228626095\"  \n",
       "[36,] \"0.426168977207882\"  \"0.148232687724481\"   \"0.0171863985767514\"  \n",
       "[37,] \"0.259696720486053\"  \"0.440355308650264\"   \"0.248896478802323\"   \n",
       "[38,] \"0.442218287402236\"  \"0.195398778154476\"   \"0.0287796649994965\"  \n",
       "[39,] \"0.362525594978349\"  \"0.386693967976906\"   \"0.137491188614011\"   \n",
       "[40,] \"0.227598100097345\"  \"0.444358195428149\"   \"0.289185492262764\"   \n",
       "[41,] \"0.169380014098218\"  \"0.0116813802826357\"  \"0.00026853747776174\" \n",
       "[42,] \"0.306334127756705\"  \"0.424154946124668\"   \"0.195763821288309\"   \n",
       "[43,] \"0.407438488134\"     \"0.335537578463294\"   \"0.0921083548722769\"  \n",
       "[44,] \"0.433331375247558\"  \"0.163702963982411\"   \"0.0206144473163036\"  \n",
       "[45,] \"0.375\"              \"0.375\"               \"0.125\"               \n",
       "[46,] \"0.321175019301131\"  \"0.416337987982948\"   \"0.179899130609916\"   \n",
       "[47,] \"0.443086838306871\"  \"0.243697761068779\"   \"0.0446779228626095\"  \n",
       "[48,] \"0.335537578463294\"  \"0.407438488134\"      \"0.164915578530429\"   \n",
       "[49,] \"0.443086838306871\"  \"0.243697761068779\"   \"0.0446779228626095\"  \n",
       "[50,] \"0.275519452183545\"  \"0.436239132623947\"   \"0.230237319995972\"   \n",
       "[51,] \"0.377630828102447\"  \"0.0906313987445873\"  \"0.00725051189956698\" \n",
       "[52,] \"0.243697761068779\"  \"0.443086838306871\"   \"0.26853747776174\"    \n",
       "[53,] \"0.417093249639153\"  \"0.133114866906113\"   \"0.0141611560538418\"  \n",
       "[54,] \"0.349346279077574\"  \"0.397531972743446\"   \"0.150787989661307\"   \n",
       "[55,] \"0.406028666375751\"  \"0.118425027692927\"   \"0.0115135443590346\"  \n",
       "[56,] \"0.362525594978349\"  \"0.386693967976906\"   \"0.137491188614011\"   \n",
       "[57,] \"0.293645731932463\"  \"0.0435030713974019\"  \"0.00214829982209392\" \n",
       "[58,] \"0.392899701252056\"  \"0.104238696250545\"   \"0.00921838810378973\" \n",
       "[59,] \"0.424154946124668\"  \"0.306334127756705\"   \"0.0737471048303179\"  \n",
       "[60,] \"0.377630828102447\"  \"0.0906313987445873\"  \"0.00725051189956698\" \n",
       "[61,] \"0.291090429995636\"  \"0.430813836393542\"   \"0.212534825954147\"   "
      ]
     },
     "metadata": {},
     "output_type": "display_data"
    }
   ],
   "source": [
    "library(splines)\n",
    "bsBasis<- bs(training$age,df=3)\n",
    "bsBasis"
   ]
  },
  {
   "cell_type": "code",
   "execution_count": 6,
   "metadata": {
    "collapsed": false
   },
   "outputs": [
    {
     "data": {
      "image/png": "[encoded data removed]",
      "text/plain": [
       "plot without title"
      ]
     },
     "metadata": {},
     "output_type": "display_data"
    }
   ],
   "source": [
    "lm1<- lm(wage ~ bsBasis,data=training)\n",
    "plot(training$age,training$wage,pch=19,cex=0.5)\n",
    "points(training$age,predict(lm1,newdata=training),col=\"red\",pch=19,cex=0.5)"
   ]
  },
  {
   "cell_type": "code",
   "execution_count": 7,
   "metadata": {
    "collapsed": false
   },
   "outputs": [
    {
     "data": {
      "text/html": [
       "<table>\n",
       "<thead><tr><th scope=col>1</th><th scope=col>2</th><th scope=col>3</th></tr></thead>\n",
       "<tbody>\n",
       "\t<tr><td>0</td><td>0</td><td>0</td></tr>\n",
       "\t<tr><td>0.430813836393542 </td><td>0.291090429995636 </td><td>0.0655609076566748</td></tr>\n",
       "\t<tr><td>0.306334127756705</td><td>0.424154946124668</td><td>0.195763821288309</td></tr>\n",
       "\t<tr><td>0.424154946124668 </td><td>0.306334127756705 </td><td>0.0737471048303179</td></tr>\n",
       "\t<tr><td>0.377630828102447  </td><td>0.0906313987445873 </td><td>0.00725051189956698</td></tr>\n",
       "\t<tr><td>0.440355308650264 </td><td>0.259696720486053 </td><td>0.0510514920613608</td></tr>\n",
       "\t<tr><td>0.335537578463294</td><td>0.407438488134   </td><td>0.164915578530429</td></tr>\n",
       "\t<tr><td>0.426168977207882 </td><td>0.148232687724481 </td><td>0.0171863985767514</td></tr>\n",
       "\t<tr><td>0.444358195428149 </td><td>0.227598100097345 </td><td>0.0388582122117418</td></tr>\n",
       "\t<tr><td>0.306334127756705</td><td>0.424154946124668</td><td>0.195763821288309</td></tr>\n",
       "\t<tr><td>0.349346279077574</td><td>0.397531972743446</td><td>0.150787989661307</td></tr>\n",
       "\t<tr><td>0.442218287402236 </td><td>0.195398778154476 </td><td>0.0287796649994965</td></tr>\n",
       "\t<tr><td>0.275519452183545</td><td>0.436239132623947</td><td>0.230237319995972</td></tr>\n",
       "\t<tr><td>0.442218287402236 </td><td>0.195398778154476 </td><td>0.0287796649994965</td></tr>\n",
       "\t<tr><td>0.443086838306871 </td><td>0.243697761068779 </td><td>0.0446779228626095</td></tr>\n",
       "\t<tr><td>0.0179374643348662</td><td>0.204487093417475 </td><td>0.777050954986405 </td></tr>\n",
       "\t<tr><td>0.444093853848478 </td><td>0.21147326373737  </td><td>0.0335671847202175</td></tr>\n",
       "\t<tr><td>0.375</td><td>0.375</td><td>0.125</td></tr>\n",
       "\t<tr><td>0.430813836393542 </td><td>0.291090429995636 </td><td>0.0655609076566748</td></tr>\n",
       "\t<tr><td>0.426168977207882 </td><td>0.148232687724481 </td><td>0.0171863985767514</td></tr>\n",
       "\t<tr><td>0.259696720486053</td><td>0.440355308650264</td><td>0.248896478802323</td></tr>\n",
       "\t<tr><td>0</td><td>0</td><td>0</td></tr>\n",
       "\t<tr><td>0.349346279077574</td><td>0.397531972743446</td><td>0.150787989661307</td></tr>\n",
       "\t<tr><td>0.417093249639153 </td><td>0.133114866906113 </td><td>0.0141611560538418</td></tr>\n",
       "\t<tr><td>0.426168977207882 </td><td>0.148232687724481 </td><td>0.0171863985767514</td></tr>\n",
       "\t<tr><td>0.275519452183545</td><td>0.436239132623947</td><td>0.230237319995972</td></tr>\n",
       "\t<tr><td>0.266544426168977  </td><td>0.0339238360578698 </td><td>0.00143919304487933</td></tr>\n",
       "\t<tr><td>0.318229498841932  </td><td>0.0540389715014602 </td><td>0.00305880970762982</td></tr>\n",
       "\t<tr><td>0.340371253063006  </td><td>0.0654560102044242 </td><td>0.00419589809002719</td></tr>\n",
       "\t<tr><td>0.430813836393542 </td><td>0.291090429995636 </td><td>0.0655609076566748</td></tr>\n",
       "\t<tr><td>⋮</td><td>⋮</td><td>⋮</td></tr>\n",
       "\t<tr><td>0.362525594978349</td><td>0.386693967976906</td><td>0.137491188614011</td></tr>\n",
       "\t<tr><td>0.426168977207882 </td><td>0.148232687724481 </td><td>0.0171863985767514</td></tr>\n",
       "\t<tr><td>0.0906313987445873  </td><td>0.00302104662481958 </td><td>3.35671847202175e-05</td></tr>\n",
       "\t<tr><td>0.443086838306871 </td><td>0.243697761068779 </td><td>0.0446779228626095</td></tr>\n",
       "\t<tr><td>0.426168977207882 </td><td>0.148232687724481 </td><td>0.0171863985767514</td></tr>\n",
       "\t<tr><td>0.259696720486053</td><td>0.440355308650264</td><td>0.248896478802323</td></tr>\n",
       "\t<tr><td>0.442218287402236 </td><td>0.195398778154476 </td><td>0.0287796649994965</td></tr>\n",
       "\t<tr><td>0.362525594978349</td><td>0.386693967976906</td><td>0.137491188614011</td></tr>\n",
       "\t<tr><td>0.227598100097345</td><td>0.444358195428149</td><td>0.289185492262764</td></tr>\n",
       "\t<tr><td>0.169380014098218  </td><td>0.0116813802826357 </td><td>0.00026853747776174</td></tr>\n",
       "\t<tr><td>0.306334127756705</td><td>0.424154946124668</td><td>0.195763821288309</td></tr>\n",
       "\t<tr><td>0.407438488134    </td><td>0.335537578463294 </td><td>0.0921083548722769</td></tr>\n",
       "\t<tr><td>0.433331375247558 </td><td>0.163702963982411 </td><td>0.0206144473163036</td></tr>\n",
       "\t<tr><td>0.375</td><td>0.375</td><td>0.125</td></tr>\n",
       "\t<tr><td>0.321175019301131</td><td>0.416337987982948</td><td>0.179899130609916</td></tr>\n",
       "\t<tr><td>0.443086838306871 </td><td>0.243697761068779 </td><td>0.0446779228626095</td></tr>\n",
       "\t<tr><td>0.335537578463294</td><td>0.407438488134   </td><td>0.164915578530429</td></tr>\n",
       "\t<tr><td>0.443086838306871 </td><td>0.243697761068779 </td><td>0.0446779228626095</td></tr>\n",
       "\t<tr><td>0.275519452183545</td><td>0.436239132623947</td><td>0.230237319995972</td></tr>\n",
       "\t<tr><td>0.377630828102447  </td><td>0.0906313987445873 </td><td>0.00725051189956698</td></tr>\n",
       "\t<tr><td>0.243697761068779</td><td>0.443086838306871</td><td>0.26853747776174 </td></tr>\n",
       "\t<tr><td>0.417093249639153 </td><td>0.133114866906113 </td><td>0.0141611560538418</td></tr>\n",
       "\t<tr><td>0.349346279077574</td><td>0.397531972743446</td><td>0.150787989661307</td></tr>\n",
       "\t<tr><td>0.406028666375751 </td><td>0.118425027692927 </td><td>0.0115135443590346</td></tr>\n",
       "\t<tr><td>0.362525594978349</td><td>0.386693967976906</td><td>0.137491188614011</td></tr>\n",
       "\t<tr><td>0.293645731932463  </td><td>0.0435030713974019 </td><td>0.00214829982209392</td></tr>\n",
       "\t<tr><td>0.392899701252056  </td><td>0.104238696250545  </td><td>0.00921838810378973</td></tr>\n",
       "\t<tr><td>0.424154946124668 </td><td>0.306334127756705 </td><td>0.0737471048303179</td></tr>\n",
       "\t<tr><td>0.377630828102447  </td><td>0.0906313987445873 </td><td>0.00725051189956698</td></tr>\n",
       "\t<tr><td>0.291090429995636</td><td>0.430813836393542</td><td>0.212534825954147</td></tr>\n",
       "</tbody>\n",
       "</table>\n"
      ],
      "text/latex": [
       "\\begin{tabular}{lll}\n",
       " 1 & 2 & 3\\\\\n",
       "\\hline\n",
       "\t 0 & 0 & 0\\\\\n",
       "\t 0.430813836393542  & 0.291090429995636  & 0.0655609076566748\\\\\n",
       "\t 0.306334127756705 & 0.424154946124668 & 0.195763821288309\\\\\n",
       "\t 0.424154946124668  & 0.306334127756705  & 0.0737471048303179\\\\\n",
       "\t 0.377630828102447   & 0.0906313987445873  & 0.00725051189956698\\\\\n",
       "\t 0.440355308650264  & 0.259696720486053  & 0.0510514920613608\\\\\n",
       "\t 0.335537578463294 & 0.407438488134    & 0.164915578530429\\\\\n",
       "\t 0.426168977207882  & 0.148232687724481  & 0.0171863985767514\\\\\n",
       "\t 0.444358195428149  & 0.227598100097345  & 0.0388582122117418\\\\\n",
       "\t 0.306334127756705 & 0.424154946124668 & 0.195763821288309\\\\\n",
       "\t 0.349346279077574 & 0.397531972743446 & 0.150787989661307\\\\\n",
       "\t 0.442218287402236  & 0.195398778154476  & 0.0287796649994965\\\\\n",
       "\t 0.275519452183545 & 0.436239132623947 & 0.230237319995972\\\\\n",
       "\t 0.442218287402236  & 0.195398778154476  & 0.0287796649994965\\\\\n",
       "\t 0.443086838306871  & 0.243697761068779  & 0.0446779228626095\\\\\n",
       "\t 0.0179374643348662 & 0.204487093417475  & 0.777050954986405 \\\\\n",
       "\t 0.444093853848478  & 0.21147326373737   & 0.0335671847202175\\\\\n",
       "\t 0.375 & 0.375 & 0.125\\\\\n",
       "\t 0.430813836393542  & 0.291090429995636  & 0.0655609076566748\\\\\n",
       "\t 0.426168977207882  & 0.148232687724481  & 0.0171863985767514\\\\\n",
       "\t 0.259696720486053 & 0.440355308650264 & 0.248896478802323\\\\\n",
       "\t 0 & 0 & 0\\\\\n",
       "\t 0.349346279077574 & 0.397531972743446 & 0.150787989661307\\\\\n",
       "\t 0.417093249639153  & 0.133114866906113  & 0.0141611560538418\\\\\n",
       "\t 0.426168977207882  & 0.148232687724481  & 0.0171863985767514\\\\\n",
       "\t 0.275519452183545 & 0.436239132623947 & 0.230237319995972\\\\\n",
       "\t 0.266544426168977   & 0.0339238360578698  & 0.00143919304487933\\\\\n",
       "\t 0.318229498841932   & 0.0540389715014602  & 0.00305880970762982\\\\\n",
       "\t 0.340371253063006   & 0.0654560102044242  & 0.00419589809002719\\\\\n",
       "\t 0.430813836393542  & 0.291090429995636  & 0.0655609076566748\\\\\n",
       "\t ⋮ & ⋮ & ⋮\\\\\n",
       "\t 0.362525594978349 & 0.386693967976906 & 0.137491188614011\\\\\n",
       "\t 0.426168977207882  & 0.148232687724481  & 0.0171863985767514\\\\\n",
       "\t 0.0906313987445873   & 0.00302104662481958  & 3.35671847202175e-05\\\\\n",
       "\t 0.443086838306871  & 0.243697761068779  & 0.0446779228626095\\\\\n",
       "\t 0.426168977207882  & 0.148232687724481  & 0.0171863985767514\\\\\n",
       "\t 0.259696720486053 & 0.440355308650264 & 0.248896478802323\\\\\n",
       "\t 0.442218287402236  & 0.195398778154476  & 0.0287796649994965\\\\\n",
       "\t 0.362525594978349 & 0.386693967976906 & 0.137491188614011\\\\\n",
       "\t 0.227598100097345 & 0.444358195428149 & 0.289185492262764\\\\\n",
       "\t 0.169380014098218   & 0.0116813802826357  & 0.00026853747776174\\\\\n",
       "\t 0.306334127756705 & 0.424154946124668 & 0.195763821288309\\\\\n",
       "\t 0.407438488134     & 0.335537578463294  & 0.0921083548722769\\\\\n",
       "\t 0.433331375247558  & 0.163702963982411  & 0.0206144473163036\\\\\n",
       "\t 0.375 & 0.375 & 0.125\\\\\n",
       "\t 0.321175019301131 & 0.416337987982948 & 0.179899130609916\\\\\n",
       "\t 0.443086838306871  & 0.243697761068779  & 0.0446779228626095\\\\\n",
       "\t 0.335537578463294 & 0.407438488134    & 0.164915578530429\\\\\n",
       "\t 0.443086838306871  & 0.243697761068779  & 0.0446779228626095\\\\\n",
       "\t 0.275519452183545 & 0.436239132623947 & 0.230237319995972\\\\\n",
       "\t 0.377630828102447   & 0.0906313987445873  & 0.00725051189956698\\\\\n",
       "\t 0.243697761068779 & 0.443086838306871 & 0.26853747776174 \\\\\n",
       "\t 0.417093249639153  & 0.133114866906113  & 0.0141611560538418\\\\\n",
       "\t 0.349346279077574 & 0.397531972743446 & 0.150787989661307\\\\\n",
       "\t 0.406028666375751  & 0.118425027692927  & 0.0115135443590346\\\\\n",
       "\t 0.362525594978349 & 0.386693967976906 & 0.137491188614011\\\\\n",
       "\t 0.293645731932463   & 0.0435030713974019  & 0.00214829982209392\\\\\n",
       "\t 0.392899701252056   & 0.104238696250545   & 0.00921838810378973\\\\\n",
       "\t 0.424154946124668  & 0.306334127756705  & 0.0737471048303179\\\\\n",
       "\t 0.377630828102447   & 0.0906313987445873  & 0.00725051189956698\\\\\n",
       "\t 0.291090429995636 & 0.430813836393542 & 0.212534825954147\\\\\n",
       "\\end{tabular}\n"
      ],
      "text/plain": [
       "      1                    2                     3                     \n",
       " [1,] \"0\"                  \"0\"                   \"0\"                   \n",
       " [2,] \"0.430813836393542\"  \"0.291090429995636\"   \"0.0655609076566748\"  \n",
       " [3,] \"0.306334127756705\"  \"0.424154946124668\"   \"0.195763821288309\"   \n",
       " [4,] \"0.424154946124668\"  \"0.306334127756705\"   \"0.0737471048303179\"  \n",
       " [5,] \"0.377630828102447\"  \"0.0906313987445873\"  \"0.00725051189956698\" \n",
       " [6,] \"0.440355308650264\"  \"0.259696720486053\"   \"0.0510514920613608\"  \n",
       " [7,] \"0.335537578463294\"  \"0.407438488134\"      \"0.164915578530429\"   \n",
       " [8,] \"0.426168977207882\"  \"0.148232687724481\"   \"0.0171863985767514\"  \n",
       " [9,] \"0.444358195428149\"  \"0.227598100097345\"   \"0.0388582122117418\"  \n",
       "[10,] \"0.306334127756705\"  \"0.424154946124668\"   \"0.195763821288309\"   \n",
       "[11,] \"0.349346279077574\"  \"0.397531972743446\"   \"0.150787989661307\"   \n",
       "[12,] \"0.442218287402236\"  \"0.195398778154476\"   \"0.0287796649994965\"  \n",
       "[13,] \"0.275519452183545\"  \"0.436239132623947\"   \"0.230237319995972\"   \n",
       "[14,] \"0.442218287402236\"  \"0.195398778154476\"   \"0.0287796649994965\"  \n",
       "[15,] \"0.443086838306871\"  \"0.243697761068779\"   \"0.0446779228626095\"  \n",
       "[16,] \"0.0179374643348662\" \"0.204487093417475\"   \"0.777050954986405\"   \n",
       "[17,] \"0.444093853848478\"  \"0.21147326373737\"    \"0.0335671847202175\"  \n",
       "[18,] \"0.375\"              \"0.375\"               \"0.125\"               \n",
       "[19,] \"0.430813836393542\"  \"0.291090429995636\"   \"0.0655609076566748\"  \n",
       "[20,] \"0.426168977207882\"  \"0.148232687724481\"   \"0.0171863985767514\"  \n",
       "[21,] \"0.259696720486053\"  \"0.440355308650264\"   \"0.248896478802323\"   \n",
       "[22,] \"0\"                  \"0\"                   \"0\"                   \n",
       "[23,] \"0.349346279077574\"  \"0.397531972743446\"   \"0.150787989661307\"   \n",
       "[24,] \"0.417093249639153\"  \"0.133114866906113\"   \"0.0141611560538418\"  \n",
       "[25,] \"0.426168977207882\"  \"0.148232687724481\"   \"0.0171863985767514\"  \n",
       "[26,] \"0.275519452183545\"  \"0.436239132623947\"   \"0.230237319995972\"   \n",
       "[27,] \"0.266544426168977\"  \"0.0339238360578698\"  \"0.00143919304487933\" \n",
       "[28,] \"0.318229498841932\"  \"0.0540389715014602\"  \"0.00305880970762982\" \n",
       "[29,] \"0.340371253063006\"  \"0.0654560102044242\"  \"0.00419589809002719\" \n",
       "[30,] \"0.430813836393542\"  \"0.291090429995636\"   \"0.0655609076566748\"  \n",
       "[31,] \"⋮\"                  \"⋮\"                   \"⋮\"                   \n",
       "[32,] \"0.362525594978349\"  \"0.386693967976906\"   \"0.137491188614011\"   \n",
       "[33,] \"0.426168977207882\"  \"0.148232687724481\"   \"0.0171863985767514\"  \n",
       "[34,] \"0.0906313987445873\" \"0.00302104662481958\" \"3.35671847202175e-05\"\n",
       "[35,] \"0.443086838306871\"  \"0.243697761068779\"   \"0.0446779228626095\"  \n",
       "[36,] \"0.426168977207882\"  \"0.148232687724481\"   \"0.0171863985767514\"  \n",
       "[37,] \"0.259696720486053\"  \"0.440355308650264\"   \"0.248896478802323\"   \n",
       "[38,] \"0.442218287402236\"  \"0.195398778154476\"   \"0.0287796649994965\"  \n",
       "[39,] \"0.362525594978349\"  \"0.386693967976906\"   \"0.137491188614011\"   \n",
       "[40,] \"0.227598100097345\"  \"0.444358195428149\"   \"0.289185492262764\"   \n",
       "[41,] \"0.169380014098218\"  \"0.0116813802826357\"  \"0.00026853747776174\" \n",
       "[42,] \"0.306334127756705\"  \"0.424154946124668\"   \"0.195763821288309\"   \n",
       "[43,] \"0.407438488134\"     \"0.335537578463294\"   \"0.0921083548722769\"  \n",
       "[44,] \"0.433331375247558\"  \"0.163702963982411\"   \"0.0206144473163036\"  \n",
       "[45,] \"0.375\"              \"0.375\"               \"0.125\"               \n",
       "[46,] \"0.321175019301131\"  \"0.416337987982948\"   \"0.179899130609916\"   \n",
       "[47,] \"0.443086838306871\"  \"0.243697761068779\"   \"0.0446779228626095\"  \n",
       "[48,] \"0.335537578463294\"  \"0.407438488134\"      \"0.164915578530429\"   \n",
       "[49,] \"0.443086838306871\"  \"0.243697761068779\"   \"0.0446779228626095\"  \n",
       "[50,] \"0.275519452183545\"  \"0.436239132623947\"   \"0.230237319995972\"   \n",
       "[51,] \"0.377630828102447\"  \"0.0906313987445873\"  \"0.00725051189956698\" \n",
       "[52,] \"0.243697761068779\"  \"0.443086838306871\"   \"0.26853747776174\"    \n",
       "[53,] \"0.417093249639153\"  \"0.133114866906113\"   \"0.0141611560538418\"  \n",
       "[54,] \"0.349346279077574\"  \"0.397531972743446\"   \"0.150787989661307\"   \n",
       "[55,] \"0.406028666375751\"  \"0.118425027692927\"   \"0.0115135443590346\"  \n",
       "[56,] \"0.362525594978349\"  \"0.386693967976906\"   \"0.137491188614011\"   \n",
       "[57,] \"0.293645731932463\"  \"0.0435030713974019\"  \"0.00214829982209392\" \n",
       "[58,] \"0.392899701252056\"  \"0.104238696250545\"   \"0.00921838810378973\" \n",
       "[59,] \"0.424154946124668\"  \"0.306334127756705\"   \"0.0737471048303179\"  \n",
       "[60,] \"0.377630828102447\"  \"0.0906313987445873\"  \"0.00725051189956698\" \n",
       "[61,] \"0.291090429995636\"  \"0.430813836393542\"   \"0.212534825954147\"   "
      ]
     },
     "metadata": {},
     "output_type": "display_data"
    }
   ],
   "source": [
    "predict(bsBasis,age=testing$age)"
   ]
  },
  {
   "cell_type": "code",
   "execution_count": 8,
   "metadata": {
    "collapsed": false
   },
   "outputs": [
    {
     "name": "stderr",
     "output_type": "stream",
     "text": [
      "\n",
      "Attaching package: ‘kernlab’\n",
      "\n",
      "The following object is masked from ‘package:ggplot2’:\n",
      "\n",
      "    alpha\n",
      "\n"
     ]
    },
    {
     "data": {
      "text/html": [
       "<table>\n",
       "<thead><tr><th></th><th scope=col>row</th><th scope=col>col</th></tr></thead>\n",
       "<tbody>\n",
       "\t<tr><th scope=row>num415</th><td>34</td><td>32</td></tr>\n",
       "\t<tr><th scope=row>direct</th><td>40</td><td>32</td></tr>\n",
       "\t<tr><th scope=row>num857</th><td>32</td><td>34</td></tr>\n",
       "\t<tr><th scope=row>direct</th><td>40</td><td>34</td></tr>\n",
       "\t<tr><th scope=row>num857</th><td>32</td><td>40</td></tr>\n",
       "\t<tr><th scope=row>num415</th><td>34</td><td>40</td></tr>\n",
       "</tbody>\n",
       "</table>\n"
      ],
      "text/latex": [
       "\\begin{tabular}{r|ll}\n",
       "  & row & col\\\\\n",
       "\\hline\n",
       "\tnum415 & 34 & 32\\\\\n",
       "\tdirect & 40 & 32\\\\\n",
       "\tnum857 & 32 & 34\\\\\n",
       "\tdirect & 40 & 34\\\\\n",
       "\tnum857 & 32 & 40\\\\\n",
       "\tnum415 & 34 & 40\\\\\n",
       "\\end{tabular}\n"
      ],
      "text/markdown": [
       "1. 34\n",
       "2. 40\n",
       "3. 32\n",
       "4. 40\n",
       "5. 32\n",
       "6. 34\n",
       "7. 32\n",
       "8. 32\n",
       "9. 34\n",
       "10. 34\n",
       "11. 40\n",
       "12. 40\n",
       "\n",
       "\n"
      ],
      "text/plain": [
       "       row col\n",
       "num415  34  32\n",
       "direct  40  32\n",
       "num857  32  34\n",
       "direct  40  34\n",
       "num857  32  40\n",
       "num415  34  40"
      ]
     },
     "metadata": {},
     "output_type": "display_data"
    }
   ],
   "source": [
    "library(caret);\n",
    "library(kernlab);\n",
    "data(spam)\n",
    "inTrain <- createDataPartition(y=spam$type,p=0.75,list=FALSE)\n",
    "training <- spam[inTrain,]\n",
    "testing <- spam[-inTrain,]\n",
    "\n",
    "M <- abs(cor(training[-58]))\n",
    "diag(M) <- 0\n",
    "which(M > 0.8,arr.ind=T)"
   ]
  },
  {
   "cell_type": "code",
   "execution_count": 9,
   "metadata": {
    "collapsed": false
   },
   "outputs": [
    {
     "data": {
      "text/html": [
       "<ol class=list-inline>\n",
       "\t<li>'num415'</li>\n",
       "\t<li>'num857'</li>\n",
       "</ol>\n"
      ],
      "text/latex": [
       "\\begin{enumerate*}\n",
       "\\item 'num415'\n",
       "\\item 'num857'\n",
       "\\end{enumerate*}\n"
      ],
      "text/markdown": [
       "1. 'num415'\n",
       "2. 'num857'\n",
       "\n",
       "\n"
      ],
      "text/plain": [
       "[1] \"num415\" \"num857\""
      ]
     },
     "metadata": {},
     "output_type": "display_data"
    }
   ],
   "source": [
    "names(spam)[c(34,32)]"
   ]
  },
  {
   "cell_type": "code",
   "execution_count": 10,
   "metadata": {
    "collapsed": false
   },
   "outputs": [
    {
     "data": {
      "image/png": "[encoded data removed]",
      "text/plain": [
       "plot without title"
      ]
     },
     "metadata": {},
     "output_type": "display_data"
    }
   ],
   "source": [
    "plot(spam[,34],spam[,32])"
   ]
  },
  {
   "cell_type": "code",
   "execution_count": 11,
   "metadata": {
    "collapsed": false
   },
   "outputs": [
    {
     "data": {
      "image/png": "[encoded data removed]",
      "text/plain": [
       "plot without title"
      ]
     },
     "metadata": {},
     "output_type": "display_data"
    }
   ],
   "source": [
    "X <- 0.71*training$num415 + 0.71*training$num857\n",
    "Y <- 0.71*training$num415 - 0.71*training$num415\n",
    "plot(X,Y)"
   ]
  },
  {
   "cell_type": "code",
   "execution_count": 12,
   "metadata": {
    "collapsed": false
   },
   "outputs": [
    {
     "data": {
      "image/png": "[encoded data removed]",
      "text/plain": [
       "plot without title"
      ]
     },
     "metadata": {},
     "output_type": "display_data"
    }
   ],
   "source": [
    "smallSpam <- spam[,c(34,32)]\n",
    "prComp <- prcomp(smallSpam)\n",
    "plot(prComp$x[,1],prComp$x[,2])"
   ]
  },
  {
   "cell_type": "code",
   "execution_count": 13,
   "metadata": {
    "collapsed": false
   },
   "outputs": [
    {
     "data": {
      "text/html": [
       "<table>\n",
       "<thead><tr><th></th><th scope=col>PC1</th><th scope=col>PC2</th></tr></thead>\n",
       "<tbody>\n",
       "\t<tr><th scope=row>num415</th><td>0.7080625</td><td>0.7061498</td></tr>\n",
       "\t<tr><th scope=row>num857</th><td> 0.7061498</td><td>-0.7080625</td></tr>\n",
       "</tbody>\n",
       "</table>\n"
      ],
      "text/latex": [
       "\\begin{tabular}{r|ll}\n",
       "  & PC1 & PC2\\\\\n",
       "\\hline\n",
       "\tnum415 & 0.7080625 & 0.7061498\\\\\n",
       "\tnum857 &  0.7061498 & -0.7080625\\\\\n",
       "\\end{tabular}\n"
      ],
      "text/markdown": [
       "1. 0.708062494723617\n",
       "2. 0.706149774173842\n",
       "3. 0.706149774173842\n",
       "4. -0.708062494723617\n",
       "\n",
       "\n"
      ],
      "text/plain": [
       "             PC1        PC2\n",
       "num415 0.7080625  0.7061498\n",
       "num857 0.7061498 -0.7080625"
      ]
     },
     "metadata": {},
     "output_type": "display_data"
    }
   ],
   "source": [
    "prComp$rotation"
   ]
  },
  {
   "cell_type": "code",
   "execution_count": 14,
   "metadata": {
    "collapsed": false
   },
   "outputs": [
    {
     "data": {
      "image/png": "[encoded data removed]",
      "text/plain": [
       "plot without title"
      ]
     },
     "metadata": {},
     "output_type": "display_data"
    }
   ],
   "source": [
    "typeColor <- ((spam$type==\"spam\")*1+1)\n",
    "prComp <- prcomp(log10(spam[,-58]+1))\n",
    "plot(prComp$x[,-1],prComp$x[,-2],col=typeColor,xlab=\"PC1\",ylab=\"PC2\")"
   ]
  },
  {
   "cell_type": "code",
   "execution_count": 15,
   "metadata": {
    "collapsed": false
   },
   "outputs": [
    {
     "data": {
      "image/png": "[encoded data removed]",
      "text/plain": [
       "plot without title"
      ]
     },
     "metadata": {},
     "output_type": "display_data"
    }
   ],
   "source": [
    "#Principal Component Analysis with Caret package\n",
    "preProc <- preProcess(log10(spam[,-58]+1),method=\"pca\",pcaComp=2)\n",
    "spamPC <- predict(preProc,log10(spam[,-58]+1))\n",
    "plot(spamPC[,1],spamPC[,2],col=typeColor)"
   ]
  },
  {
   "cell_type": "code",
   "execution_count": 16,
   "metadata": {
    "collapsed": false
   },
   "outputs": [
    {
     "name": "stderr",
     "output_type": "stream",
     "text": [
      "Warning message:\n",
      "“glm.fit: fitted probabilities numerically 0 or 1 occurred”Warning message:\n",
      "“glm.fit: fitted probabilities numerically 0 or 1 occurred”Warning message:\n",
      "“glm.fit: fitted probabilities numerically 0 or 1 occurred”Warning message:\n",
      "“glm.fit: fitted probabilities numerically 0 or 1 occurred”Warning message:\n",
      "“glm.fit: fitted probabilities numerically 0 or 1 occurred”Warning message:\n",
      "“glm.fit: fitted probabilities numerically 0 or 1 occurred”Warning message:\n",
      "“glm.fit: fitted probabilities numerically 0 or 1 occurred”Warning message:\n",
      "“glm.fit: fitted probabilities numerically 0 or 1 occurred”Warning message:\n",
      "“glm.fit: fitted probabilities numerically 0 or 1 occurred”Warning message:\n",
      "“glm.fit: fitted probabilities numerically 0 or 1 occurred”Warning message:\n",
      "“glm.fit: fitted probabilities numerically 0 or 1 occurred”Warning message:\n",
      "“glm.fit: fitted probabilities numerically 0 or 1 occurred”Warning message:\n",
      "“glm.fit: fitted probabilities numerically 0 or 1 occurred”Warning message:\n",
      "“glm.fit: fitted probabilities numerically 0 or 1 occurred”Warning message:\n",
      "“glm.fit: fitted probabilities numerically 0 or 1 occurred”Warning message:\n",
      "“glm.fit: fitted probabilities numerically 0 or 1 occurred”Warning message:\n",
      "“glm.fit: fitted probabilities numerically 0 or 1 occurred”Warning message:\n",
      "“glm.fit: fitted probabilities numerically 0 or 1 occurred”Warning message:\n",
      "“glm.fit: fitted probabilities numerically 0 or 1 occurred”Warning message:\n",
      "“glm.fit: fitted probabilities numerically 0 or 1 occurred”Warning message:\n",
      "“glm.fit: fitted probabilities numerically 0 or 1 occurred”Warning message:\n",
      "“glm.fit: fitted probabilities numerically 0 or 1 occurred”Warning message:\n",
      "“glm.fit: fitted probabilities numerically 0 or 1 occurred”Warning message:\n",
      "“glm.fit: fitted probabilities numerically 0 or 1 occurred”Warning message:\n",
      "“glm.fit: fitted probabilities numerically 0 or 1 occurred”"
     ]
    }
   ],
   "source": [
    "preProc <- preProcess(log10(training[,-58]+1),method=\"pca\",pcaComp=2)\n",
    "trainPC <- predict(preProc,log10(training[,-58]+1))\n",
    "modelFit <- train(training$type ~.,method=\"glm\",data=trainPC)"
   ]
  },
  {
   "cell_type": "code",
   "execution_count": 17,
   "metadata": {
    "collapsed": false
   },
   "outputs": [
    {
     "data": {
      "text/plain": [
       "Confusion Matrix and Statistics\n",
       "\n",
       "          Reference\n",
       "Prediction nonspam spam\n",
       "   nonspam     654   43\n",
       "   spam         68  385\n",
       "                                          \n",
       "               Accuracy : 0.9035          \n",
       "                 95% CI : (0.8849, 0.9199)\n",
       "    No Information Rate : 0.6278          \n",
       "    P-Value [Acc > NIR] : < 2e-16         \n",
       "                                          \n",
       "                  Kappa : 0.7959          \n",
       " Mcnemar's Test P-Value : 0.02273         \n",
       "                                          \n",
       "            Sensitivity : 0.9058          \n",
       "            Specificity : 0.8995          \n",
       "         Pos Pred Value : 0.9383          \n",
       "         Neg Pred Value : 0.8499          \n",
       "             Prevalence : 0.6278          \n",
       "         Detection Rate : 0.5687          \n",
       "   Detection Prevalence : 0.6061          \n",
       "      Balanced Accuracy : 0.9027          \n",
       "                                          \n",
       "       'Positive' Class : nonspam         \n",
       "                                          "
      ]
     },
     "metadata": {},
     "output_type": "display_data"
    }
   ],
   "source": [
    "testPC <- predict(preProc,log10(testing[,-58]+1))\n",
    "confusionMatrix(testing$type,predict(modelFit,testPC))"
   ]
  },
  {
   "cell_type": "code",
   "execution_count": 18,
   "metadata": {
    "collapsed": false
   },
   "outputs": [
    {
     "data": {
      "text/html": [
       "<table>\n",
       "<thead><tr><th></th><th scope=col>eruptions</th><th scope=col>waiting</th></tr></thead>\n",
       "<tbody>\n",
       "\t<tr><th scope=row>1</th><td> 3.6</td><td>79.0</td></tr>\n",
       "\t<tr><th scope=row>3</th><td> 3.333</td><td>74.000</td></tr>\n",
       "\t<tr><th scope=row>5</th><td> 4.533</td><td>85.000</td></tr>\n",
       "\t<tr><th scope=row>6</th><td> 2.883</td><td>55.000</td></tr>\n",
       "\t<tr><th scope=row>7</th><td> 4.7</td><td>88.0</td></tr>\n",
       "\t<tr><th scope=row>8</th><td> 3.6</td><td>85.0</td></tr>\n",
       "</tbody>\n",
       "</table>\n"
      ],
      "text/latex": [
       "\\begin{tabular}{r|ll}\n",
       "  & eruptions & waiting\\\\\n",
       "\\hline\n",
       "\t1 &  3.6 & 79.0\\\\\n",
       "\t3 &  3.333 & 74.000\\\\\n",
       "\t5 &  4.533 & 85.000\\\\\n",
       "\t6 &  2.883 & 55.000\\\\\n",
       "\t7 &  4.7 & 88.0\\\\\n",
       "\t8 &  3.6 & 85.0\\\\\n",
       "\\end{tabular}\n"
      ],
      "text/plain": [
       "  eruptions waiting\n",
       "1     3.600      79\n",
       "3     3.333      74\n",
       "5     4.533      85\n",
       "6     2.883      55\n",
       "7     4.700      88\n",
       "8     3.600      85"
      ]
     },
     "metadata": {},
     "output_type": "display_data"
    }
   ],
   "source": [
    "#Predicting with regressions\n",
    "library(caret)\n",
    "data(faithful)\n",
    "set.seed(333)\n",
    "inTrain <- createDataPartition(y=faithful$waiting,p=0.5,list=FALSE)\n",
    "trainFaith <- faithful[inTrain,]\n",
    "testFaith <- faithful[-inTrain,]\n",
    "head(trainFaith)"
   ]
  },
  {
   "cell_type": "code",
   "execution_count": 19,
   "metadata": {
    "collapsed": false
   },
   "outputs": [
    {
     "data": {
      "image/png": "[encoded data removed]",
      "text/plain": [
       "plot without title"
      ]
     },
     "metadata": {},
     "output_type": "display_data"
    }
   ],
   "source": [
    "plot(trainFaith$waiting,trainFaith$eruptions,pch=19,col=\"blue\",xlab=\"Waiting\",ylab=\"Duration\")"
   ]
  },
  {
   "cell_type": "code",
   "execution_count": 20,
   "metadata": {
    "collapsed": false
   },
   "outputs": [
    {
     "data": {
      "text/plain": [
       "\n",
       "Call:\n",
       "lm(formula = eruptions ~ waiting, data = trainFaith)\n",
       "\n",
       "Residuals:\n",
       "     Min       1Q   Median       3Q      Max \n",
       "-1.26990 -0.34789  0.03979  0.36589  1.05020 \n",
       "\n",
       "Coefficients:\n",
       "             Estimate Std. Error t value Pr(>|t|)    \n",
       "(Intercept) -1.792739   0.227869  -7.867 1.04e-12 ***\n",
       "waiting      0.073901   0.003148  23.474  < 2e-16 ***\n",
       "---\n",
       "Signif. codes:  0 ‘***’ 0.001 ‘**’ 0.01 ‘*’ 0.05 ‘.’ 0.1 ‘ ’ 1\n",
       "\n",
       "Residual standard error: 0.495 on 135 degrees of freedom\n",
       "Multiple R-squared:  0.8032,\tAdjusted R-squared:  0.8018 \n",
       "F-statistic:   551 on 1 and 135 DF,  p-value: < 2.2e-16\n"
      ]
     },
     "metadata": {},
     "output_type": "display_data"
    }
   ],
   "source": [
    "lm1 <- lm(eruptions ~ waiting,data=trainFaith)\n",
    "summary(lm1)"
   ]
  },
  {
   "cell_type": "code",
   "execution_count": 21,
   "metadata": {
    "collapsed": false
   },
   "outputs": [
    {
     "data": {
      "image/png": "[encoded data removed]",
      "text/plain": [
       "plot without title"
      ]
     },
     "metadata": {},
     "output_type": "display_data"
    }
   ],
   "source": [
    "plot(trainFaith$waiting,trainFaith$eruptions,pch=19,col=\"blue\",xlab=\"Waiting\",ylab=\"Duration\")\n",
    "lines(trainFaith$waiting,lm1$fitted,lwd=3)"
   ]
  },
  {
   "cell_type": "code",
   "execution_count": 22,
   "metadata": {
    "collapsed": false
   },
   "outputs": [
    {
     "data": {
      "text/html": [
       "<strong>(Intercept):</strong> 4.11930738130774"
      ],
      "text/latex": [
       "\\textbf{(Intercept):} 4.11930738130774"
      ],
      "text/markdown": [
       "**(Intercept):** 4.11930738130774"
      ],
      "text/plain": [
       "(Intercept) \n",
       "   4.119307 "
      ]
     },
     "metadata": {},
     "output_type": "display_data"
    }
   ],
   "source": [
    "coef(lm1)[1] + coef(lm1)[2]*80"
   ]
  },
  {
   "cell_type": "code",
   "execution_count": 23,
   "metadata": {
    "collapsed": false
   },
   "outputs": [
    {
     "data": {
      "text/html": [
       "<strong>1:</strong> 4.11930738130774"
      ],
      "text/latex": [
       "\\textbf{1:} 4.11930738130774"
      ],
      "text/markdown": [
       "**1:** 4.11930738130774"
      ],
      "text/plain": [
       "       1 \n",
       "4.119307 "
      ]
     },
     "metadata": {},
     "output_type": "display_data"
    }
   ],
   "source": [
    "newdata <- data.frame(waiting=80)\n",
    "predict(lm1,newdata)"
   ]
  },
  {
   "cell_type": "code",
   "execution_count": 24,
   "metadata": {
    "collapsed": false
   },
   "outputs": [
    {
     "data": {
      "image/png": "[encoded data removed]",
      "text/plain": [
       "plot without title"
      ]
     },
     "metadata": {},
     "output_type": "display_data"
    }
   ],
   "source": [
    "par(mfrow = c(1,2))\n",
    "plot(trainFaith$waiting,trainFaith$eruptions,pch=19,col=\"blue\",xlab=\"Waiting\",ylab=\"Duration\")\n",
    "lines(trainFaith$waiting,predict(lm1),lwd=3)\n",
    "plot(testFaith$waiting,testFaith$eruptions,pch=19,col=\"blue\",xlab=\"Waiting\",ylab=\"Duration\")\n",
    "lines(testFaith$waiting,predict(lm1,newdata=testFaith),lwd=3)"
   ]
  },
  {
   "cell_type": "code",
   "execution_count": 25,
   "metadata": {
    "collapsed": false
   },
   "outputs": [
    {
     "data": {
      "text/html": [
       "5.75186045387784"
      ],
      "text/latex": [
       "5.75186045387784"
      ],
      "text/markdown": [
       "5.75186045387784"
      ],
      "text/plain": [
       "[1] 5.75186"
      ]
     },
     "metadata": {},
     "output_type": "display_data"
    }
   ],
   "source": [
    "#Calculate RMSE on training data\n",
    "sqrt(sum((lm1$fitted-trainFaith$eruptions)^2))"
   ]
  },
  {
   "cell_type": "code",
   "execution_count": 26,
   "metadata": {
    "collapsed": false
   },
   "outputs": [
    {
     "data": {
      "text/html": [
       "5.83855885482663"
      ],
      "text/latex": [
       "5.83855885482663"
      ],
      "text/markdown": [
       "5.83855885482663"
      ],
      "text/plain": [
       "[1] 5.838559"
      ]
     },
     "metadata": {},
     "output_type": "display_data"
    }
   ],
   "source": [
    "#Calculate RMSE on testing data\n",
    "sqrt(sum((predict(lm1,newdata=testFaith)-testFaith$eruptions)^2))"
   ]
  },
  {
   "cell_type": "code",
   "execution_count": 27,
   "metadata": {
    "collapsed": false
   },
   "outputs": [
    {
     "data": {
      "image/png": "[encoded data removed]",
      "text/plain": [
       "plot without title"
      ]
     },
     "metadata": {},
     "output_type": "display_data"
    }
   ],
   "source": [
    "pred1 <- predict(lm1,newdata=testFaith,interval=\"prediction\")\n",
    "ord <- order(testFaith$waiting)\n",
    "plot(testFaith$waiting,testFaith$eruptions,pch=19,col=\"blue\")\n",
    "matlines(testFaith$waiting[ord],pred1[ord,],type=\"l\",,col=c(1,2,2),lty=c(1,1,1),lwd=3)"
   ]
  }
 ],
 "metadata": {
  "kernelspec": {
   "display_name": "R",
   "language": "R",
   "name": "ir"
  },
  "language_info": {
   "codemirror_mode": "r",
   "file_extension": ".r",
   "mimetype": "text/x-r-source",
   "name": "R",
   "pygments_lexer": "r",
   "version": "3.3.1"
  }
 },
 "nbformat": 4,
 "nbformat_minor": 0
}
