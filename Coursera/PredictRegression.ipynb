{
 "cells": [
  {
   "cell_type": "code",
   "execution_count": 2,
   "metadata": {
    "collapsed": false
   },
   "outputs": [
    {
     "data": {
      "text/html": [
       "<table>\n",
       "<thead><tr><th></th><th scope=col>eruptions</th><th scope=col>waiting</th></tr></thead>\n",
       "<tbody>\n",
       "\t<tr><th scope=row>1</th><td> 3.6</td><td>79.0</td></tr>\n",
       "\t<tr><th scope=row>3</th><td> 3.333</td><td>74.000</td></tr>\n",
       "\t<tr><th scope=row>5</th><td> 4.533</td><td>85.000</td></tr>\n",
       "\t<tr><th scope=row>6</th><td> 2.883</td><td>55.000</td></tr>\n",
       "\t<tr><th scope=row>7</th><td> 4.7</td><td>88.0</td></tr>\n",
       "\t<tr><th scope=row>8</th><td> 3.6</td><td>85.0</td></tr>\n",
       "</tbody>\n",
       "</table>\n"
      ],
      "text/latex": [
       "\\begin{tabular}{r|ll}\n",
       "  & eruptions & waiting\\\\\n",
       "\\hline\n",
       "\t1 &  3.6 & 79.0\\\\\n",
       "\t3 &  3.333 & 74.000\\\\\n",
       "\t5 &  4.533 & 85.000\\\\\n",
       "\t6 &  2.883 & 55.000\\\\\n",
       "\t7 &  4.7 & 88.0\\\\\n",
       "\t8 &  3.6 & 85.0\\\\\n",
       "\\end{tabular}\n"
      ],
      "text/plain": [
       "  eruptions waiting\n",
       "1     3.600      79\n",
       "3     3.333      74\n",
       "5     4.533      85\n",
       "6     2.883      55\n",
       "7     4.700      88\n",
       "8     3.600      85"
      ]
     },
     "metadata": {},
     "output_type": "display_data"
    }
   ],
   "source": [
    "library(caret);\n",
    "data(faithful)\n",
    "set.seed(333)\n",
    "inTrain <- createDataPartition(y=faithful$waiting,p=0.5,list =FALSE)\n",
    "trainFaith <- faithful[inTrain,]\n",
    "testFaith <- faithful[-inTrain,]\n",
    "head(trainFaith)"
   ]
  },
  {
   "cell_type": "code",
   "execution_count": 3,
   "metadata": {
    "collapsed": false
   },
   "outputs": [
    {
     "data": {
      "image/png": "[encoded data removed]",
      "text/plain": [
       "plot without title"
      ]
     },
     "metadata": {},
     "output_type": "display_data"
    }
   ],
   "source": [
    "plot(trainFaith$waiting,trainFaith$eruptions,pch=19,col=\"blue\",xlab=\"Waiting\",ylab=\"Duration\")"
   ]
  }
 ],
 "metadata": {
  "kernelspec": {
   "display_name": "R",
   "language": "R",
   "name": "ir"
  },
  "language_info": {
   "codemirror_mode": "r",
   "file_extension": ".r",
   "mimetype": "text/x-r-source",
   "name": "R",
   "pygments_lexer": "r",
   "version": "3.3.1"
  }
 },
 "nbformat": 4,
 "nbformat_minor": 0
}
