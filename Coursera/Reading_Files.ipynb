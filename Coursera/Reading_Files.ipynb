{
 "cells": [
  {
   "cell_type": "code",
   "execution_count": 3,
   "metadata": {
    "collapsed": false
   },
   "outputs": [
    {
     "name": "stderr",
     "output_type": "stream",
     "text": [
      "Warning message in readLines(con):\n",
      "“URL 'https://scholar.google.com/citations?user=HI-I6C0AAAAJ': status was 'Problem with the SSL CA cert (path? access rights?)'”"
     ]
    },
    {
     "ename": "ERROR",
     "evalue": "Error in readLines(con): cannot open connection\n",
     "output_type": "error",
     "traceback": [
      "Error in readLines(con): cannot open connection\nTraceback:\n",
      "1. readLines(con)"
     ]
    }
   ],
   "source": [
    "library(RCurl)\n",
    "con = url(\"https://scholar.google.com/citations?user=HI-I6C0AAAAJ\")\n",
    "htmlCode = readLines(con)\n",
    "close(con)\n",
    "htmlCode"
   ]
  },
  {
   "cell_type": "code",
   "execution_count": 5,
   "metadata": {
    "collapsed": false
   },
   "outputs": [
    {
     "ename": "ERROR",
     "evalue": "Error in curl::curl_fetch_memory(url, handle = handle): Problem with the SSL CA cert (path? access rights?)\n",
     "output_type": "error",
     "traceback": [
      "Error in curl::curl_fetch_memory(url, handle = handle): Problem with the SSL CA cert (path? access rights?)\nTraceback:\n",
      "1. GET(url)",
      "2. request_perform(req, hu$handle$handle)",
      "3. request_fetch(req$output, req$url, handle)",
      "4. request_fetch.write_memory(req$output, req$url, handle)",
      "5. curl::curl_fetch_memory(url, handle = handle)"
     ]
    }
   ],
   "source": [
    "library(httr);\n",
    "url <-\"https://scholar.google.com/citations?user=HI-I6C0AAAAJ\"\n",
    "html2 = GET(url)\n",
    "content(html2,as=\"text\")\n",
    "parsedHtml = htmlParse(content2,asText=TRUE)\n",
    "xpathSApply(ParseHtml,\"//title\",xmlValue)\n"
   ]
  }
 ],
 "metadata": {
  "kernelspec": {
   "display_name": "R",
   "language": "R",
   "name": "ir"
  },
  "language_info": {
   "codemirror_mode": "r",
   "file_extension": ".r",
   "mimetype": "text/x-r-source",
   "name": "R",
   "pygments_lexer": "r",
   "version": "3.3.1"
  }
 },
 "nbformat": 4,
 "nbformat_minor": 0
}
