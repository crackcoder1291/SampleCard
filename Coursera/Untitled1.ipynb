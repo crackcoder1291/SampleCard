{
 "cells": [
  {
   "cell_type": "code",
   "execution_count": 3,
   "metadata": {
    "collapsed": false
   },
   "outputs": [],
   "source": [
    "library(AppliedPredictiveModeling)\n",
    "data(concrete)\n",
    "library(caret)\n",
    "set.seed(1000)\n",
    "inTrain = createDataPartition(mixtures$CompressiveStrength, p = 3/4)[[1]]\n",
    "training = mixtures[ inTrain,]\n",
    "testing = mixtures[-inTrain,]"
   ]
  },
  {
   "cell_type": "code",
   "execution_count": 4,
   "metadata": {
    "collapsed": false
   },
   "outputs": [
    {
     "data": {
      "text/html": [
       "<table>\n",
       "<thead><tr><th></th><th scope=col>Cement</th><th scope=col>BlastFurnaceSlag</th><th scope=col>FlyAsh</th><th scope=col>Water</th><th scope=col>Superplasticizer</th><th scope=col>CoarseAggregate</th><th scope=col>FineAggregate</th><th scope=col>Age</th><th scope=col>CompressiveStrength</th></tr></thead>\n",
       "<tbody>\n",
       "\t<tr><th scope=row>1</th><td> 0.223094402</td><td> 0.000000000</td><td> 0.000000000</td><td> 0.066928321</td><td> 0.001032844</td><td> 0.429663293</td><td> 0.279281140</td><td>28.000000000</td><td>79.990000000</td></tr>\n",
       "\t<tr><th scope=row>2</th><td> 0.221720386</td><td> 0.000000000</td><td> 0.000000000</td><td> 0.066516116</td><td> 0.001026483</td><td> 0.433175939</td><td> 0.277561076</td><td>28.000000000</td><td>61.890000000</td></tr>\n",
       "\t<tr><th scope=row>3</th><td>  0.14917003</td><td>  0.06393001</td><td>  0.00000000</td><td>  0.10228802</td><td>  0.00000000</td><td>  0.41812472</td><td>  0.26648721</td><td>270.00000000</td><td> 40.27000000</td></tr>\n",
       "\t<tr><th scope=row>4</th><td>  0.14917003</td><td>  0.06393001</td><td>  0.00000000</td><td>  0.10228802</td><td>  0.00000000</td><td>  0.41812472</td><td>  0.26648721</td><td>365.00000000</td><td> 41.05000000</td></tr>\n",
       "\t<tr><th scope=row>5</th><td>  0.08534961</td><td>  0.05689974</td><td>  0.00000000</td><td>  0.08251322</td><td>  0.00000000</td><td>  0.42047359</td><td>  0.35476385</td><td>360.00000000</td><td> 44.30000000</td></tr>\n",
       "\t<tr><th scope=row>6</th><td> 0.12036199</td><td> 0.05158371</td><td> 0.00000000</td><td> 0.10316742</td><td> 0.00000000</td><td> 0.42171946</td><td> 0.30316742</td><td>90.00000000</td><td>47.03000000</td></tr>\n",
       "</tbody>\n",
       "</table>\n"
      ],
      "text/latex": [
       "\\begin{tabular}{r|lllllllll}\n",
       "  & Cement & BlastFurnaceSlag & FlyAsh & Water & Superplasticizer & CoarseAggregate & FineAggregate & Age & CompressiveStrength\\\\\n",
       "\\hline\n",
       "\t1 &  0.223094402 &  0.000000000 &  0.000000000 &  0.066928321 &  0.001032844 &  0.429663293 &  0.279281140 & 28.000000000 & 79.990000000\\\\\n",
       "\t2 &  0.221720386 &  0.000000000 &  0.000000000 &  0.066516116 &  0.001026483 &  0.433175939 &  0.277561076 & 28.000000000 & 61.890000000\\\\\n",
       "\t3 &   0.14917003 &   0.06393001 &   0.00000000 &   0.10228802 &   0.00000000 &   0.41812472 &   0.26648721 & 270.00000000 &  40.27000000\\\\\n",
       "\t4 &   0.14917003 &   0.06393001 &   0.00000000 &   0.10228802 &   0.00000000 &   0.41812472 &   0.26648721 & 365.00000000 &  41.05000000\\\\\n",
       "\t5 &   0.08534961 &   0.05689974 &   0.00000000 &   0.08251322 &   0.00000000 &   0.42047359 &   0.35476385 & 360.00000000 &  44.30000000\\\\\n",
       "\t6 &  0.12036199 &  0.05158371 &  0.00000000 &  0.10316742 &  0.00000000 &  0.42171946 &  0.30316742 & 90.00000000 & 47.03000000\\\\\n",
       "\\end{tabular}\n"
      ],
      "text/plain": [
       "      Cement BlastFurnaceSlag FlyAsh      Water Superplasticizer\n",
       "1 0.22309440       0.00000000      0 0.06692832      0.001032844\n",
       "2 0.22172039       0.00000000      0 0.06651612      0.001026483\n",
       "3 0.14917003       0.06393001      0 0.10228802      0.000000000\n",
       "4 0.14917003       0.06393001      0 0.10228802      0.000000000\n",
       "5 0.08534961       0.05689974      0 0.08251322      0.000000000\n",
       "6 0.12036199       0.05158371      0 0.10316742      0.000000000\n",
       "  CoarseAggregate FineAggregate Age CompressiveStrength\n",
       "1       0.4296633     0.2792811  28               79.99\n",
       "2       0.4331759     0.2775611  28               61.89\n",
       "3       0.4181247     0.2664872 270               40.27\n",
       "4       0.4181247     0.2664872 365               41.05\n",
       "5       0.4204736     0.3547638 360               44.30\n",
       "6       0.4217195     0.3031674  90               47.03"
      ]
     },
     "metadata": {},
     "output_type": "display_data"
    }
   ],
   "source": [
    "head(mixtures)"
   ]
  },
  {
   "cell_type": "code",
   "execution_count": null,
   "metadata": {
    "collapsed": true
   },
   "outputs": [],
   "source": [
    "inTrain <- createParititon(,p=)"
   ]
  }
 ],
 "metadata": {
  "kernelspec": {
   "display_name": "R",
   "language": "R",
   "name": "ir"
  },
  "language_info": {
   "codemirror_mode": "r",
   "file_extension": ".r",
   "mimetype": "text/x-r-source",
   "name": "R",
   "pygments_lexer": "r",
   "version": "3.3.1"
  }
 },
 "nbformat": 4,
 "nbformat_minor": 0
}
