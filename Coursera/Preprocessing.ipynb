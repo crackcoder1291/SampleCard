{
 "cells": [
  {
   "cell_type": "code",
   "execution_count": 2,
   "metadata": {
    "collapsed": false
   },
   "outputs": [
    {
     "name": "stderr",
     "output_type": "stream",
     "text": [
      "Loading required package: lattice\n",
      "Loading required package: ggplot2\n",
      "\n",
      "Attaching package: ‘kernlab’\n",
      "\n",
      "The following object is masked from ‘package:ggplot2’:\n",
      "\n",
      "    alpha\n",
      "\n"
     ]
    },
    {
     "data": {
      "image/png": "[encoded data removed]",
      "text/plain": [
       "Plot with title “”"
      ]
     },
     "metadata": {},
     "output_type": "display_data"
    }
   ],
   "source": [
    "library(caret)\n",
    "library(kernlab);\n",
    "data(spam)\n",
    "inTrain<-createDataPartition(y=spam$type,p=0.75,list=FALSE)\n",
    "training<-spam[inTrain,]\n",
    "testing<-spam[-inTrain,]\n",
    "hist(training$capitalAve,main=\"\",xlab=\"ave. capital run length\")"
   ]
  },
  {
   "cell_type": "code",
   "execution_count": 3,
   "metadata": {
    "collapsed": false
   },
   "outputs": [
    {
     "data": {
      "text/html": [
       "5.13846942915097"
      ],
      "text/latex": [
       "5.13846942915097"
      ],
      "text/markdown": [
       "5.13846942915097"
      ],
      "text/plain": [
       "[1] 5.138469"
      ]
     },
     "metadata": {},
     "output_type": "display_data"
    }
   ],
   "source": [
    "mean(training$capitalAve)"
   ]
  },
  {
   "cell_type": "code",
   "execution_count": 4,
   "metadata": {
    "collapsed": false
   },
   "outputs": [
    {
     "data": {
      "text/html": [
       "31.6857764457174"
      ],
      "text/latex": [
       "31.6857764457174"
      ],
      "text/markdown": [
       "31.6857764457174"
      ],
      "text/plain": [
       "[1] 31.68578"
      ]
     },
     "metadata": {},
     "output_type": "display_data"
    }
   ],
   "source": [
    "sd(training$capitalAve)"
   ]
  },
  {
   "cell_type": "code",
   "execution_count": 5,
   "metadata": {
    "collapsed": false
   },
   "outputs": [
    {
     "data": {
      "text/html": [
       "6.52225089033656e-18"
      ],
      "text/latex": [
       "6.52225089033656e-18"
      ],
      "text/markdown": [
       "6.52225089033656e-18"
      ],
      "text/plain": [
       "[1] 6.522251e-18"
      ]
     },
     "metadata": {},
     "output_type": "display_data"
    }
   ],
   "source": [
    "trainCapAve<-training$capitalAve\n",
    "trainCapAveS<-(trainCapAve-mean(trainCapAve))/sd(trainCapAve)\n",
    "mean(trainCapAveS)"
   ]
  },
  {
   "cell_type": "code",
   "execution_count": 6,
   "metadata": {
    "collapsed": false
   },
   "outputs": [
    {
     "data": {
      "text/html": [
       "1"
      ],
      "text/latex": [
       "1"
      ],
      "text/markdown": [
       "1"
      ],
      "text/plain": [
       "[1] 1"
      ]
     },
     "metadata": {},
     "output_type": "display_data"
    }
   ],
   "source": [
    "sd(trainCapAveS)"
   ]
  },
  {
   "cell_type": "code",
   "execution_count": 7,
   "metadata": {
    "collapsed": false
   },
   "outputs": [
    {
     "data": {
      "text/html": [
       "6.52225089033656e-18"
      ],
      "text/latex": [
       "6.52225089033656e-18"
      ],
      "text/markdown": [
       "6.52225089033656e-18"
      ],
      "text/plain": [
       "[1] 6.522251e-18"
      ]
     },
     "metadata": {},
     "output_type": "display_data"
    }
   ],
   "source": [
    "preObj<-preProcess(training[,-58],method=c(\"center\",\"scale\"))\n",
    "trainCapeAveS<- predict(preObj,training[,-58])$capitalAve\n",
    "mean(trainCapeAveS)"
   ]
  },
  {
   "cell_type": "code",
   "execution_count": 8,
   "metadata": {
    "collapsed": false
   },
   "outputs": [
    {
     "data": {
      "text/html": [
       "0.00669792113449312"
      ],
      "text/latex": [
       "0.00669792113449312"
      ],
      "text/markdown": [
       "0.00669792113449312"
      ],
      "text/plain": [
       "[1] 0.006697921"
      ]
     },
     "metadata": {},
     "output_type": "display_data"
    }
   ],
   "source": [
    "testCapeAveS<-predict(preObj,testing[,-58])$capitalAve\n",
    "mean(testCapeAveS)"
   ]
  },
  {
   "cell_type": "code",
   "execution_count": 9,
   "metadata": {
    "collapsed": false
   },
   "outputs": [
    {
     "name": "stderr",
     "output_type": "stream",
     "text": [
      "Warning message:\n",
      "“glm.fit: fitted probabilities numerically 0 or 1 occurred”Warning message:\n",
      "“glm.fit: fitted probabilities numerically 0 or 1 occurred”Warning message:\n",
      "“glm.fit: algorithm did not converge”Warning message:\n",
      "“glm.fit: fitted probabilities numerically 0 or 1 occurred”Warning message:\n",
      "“glm.fit: fitted probabilities numerically 0 or 1 occurred”Warning message:\n",
      "“glm.fit: fitted probabilities numerically 0 or 1 occurred”Warning message:\n",
      "“glm.fit: fitted probabilities numerically 0 or 1 occurred”Warning message:\n",
      "“glm.fit: fitted probabilities numerically 0 or 1 occurred”Warning message:\n",
      "“glm.fit: fitted probabilities numerically 0 or 1 occurred”Warning message:\n",
      "“glm.fit: fitted probabilities numerically 0 or 1 occurred”Warning message:\n",
      "“glm.fit: fitted probabilities numerically 0 or 1 occurred”Warning message:\n",
      "“glm.fit: fitted probabilities numerically 0 or 1 occurred”Warning message:\n",
      "“glm.fit: fitted probabilities numerically 0 or 1 occurred”Warning message:\n",
      "“glm.fit: fitted probabilities numerically 0 or 1 occurred”Warning message:\n",
      "“glm.fit: fitted probabilities numerically 0 or 1 occurred”Warning message:\n",
      "“glm.fit: fitted probabilities numerically 0 or 1 occurred”Warning message:\n",
      "“glm.fit: fitted probabilities numerically 0 or 1 occurred”Warning message:\n",
      "“glm.fit: fitted probabilities numerically 0 or 1 occurred”Warning message:\n",
      "“glm.fit: fitted probabilities numerically 0 or 1 occurred”Warning message:\n",
      "“glm.fit: fitted probabilities numerically 0 or 1 occurred”Warning message:\n",
      "“glm.fit: fitted probabilities numerically 0 or 1 occurred”Warning message:\n",
      "“glm.fit: fitted probabilities numerically 0 or 1 occurred”Warning message:\n",
      "“glm.fit: fitted probabilities numerically 0 or 1 occurred”Warning message:\n",
      "“glm.fit: fitted probabilities numerically 0 or 1 occurred”Warning message:\n",
      "“glm.fit: fitted probabilities numerically 0 or 1 occurred”Warning message:\n",
      "“glm.fit: fitted probabilities numerically 0 or 1 occurred”Warning message:\n",
      "“glm.fit: fitted probabilities numerically 0 or 1 occurred”"
     ]
    },
    {
     "data": {
      "text/plain": [
       "Generalized Linear Model \n",
       "\n",
       "3451 samples\n",
       "  57 predictor\n",
       "   2 classes: 'nonspam', 'spam' \n",
       "\n",
       "Pre-processing: centered (57), scaled (57) \n",
       "Resampling: Bootstrapped (25 reps) \n",
       "Summary of sample sizes: 3451, 3451, 3451, 3451, 3451, 3451, ... \n",
       "Resampling results:\n",
       "\n",
       "  Accuracy   Kappa    \n",
       "  0.9193766  0.8307217\n",
       "\n",
       " "
      ]
     },
     "metadata": {},
     "output_type": "display_data"
    }
   ],
   "source": [
    "set.seed(32343)\n",
    "modelFit<-train(type~.,data=training,preProcess=c(\"center\",\"scale\"),method=\"glm\")\n",
    "modelFit"
   ]
  },
  {
   "cell_type": "code",
   "execution_count": 10,
   "metadata": {
    "collapsed": false,
    "scrolled": true
   },
   "outputs": [
    {
     "data": {
      "image/png": "[encoded data removed]",
      "text/plain": [
       "Plot with title “Normal Q-Q Plot”"
      ]
     },
     "metadata": {},
     "output_type": "display_data"
    }
   ],
   "source": [
    "preObj<-preProcess(training[,-58],method=c(\"BoxCox\"))\n",
    "trainCapeAveS<-predict(preObj,training[,-58])$capitalAve\n",
    "par(mfrow=c(1,2));\n",
    "hist(trainCapeAveS);\n",
    "qqnorm(trainCapeAveS);"
   ]
  },
  {
   "cell_type": "code",
   "execution_count": 15,
   "metadata": {
    "collapsed": false
   },
   "outputs": [],
   "source": [
    "set.seed(13343)\n",
    "\n",
    "#Make some value NA\n",
    "training$capAve<-training$capitalAve\n",
    "selectNA <-rbinom(dim(training)[1],size=1,prob=0.05)==1\n",
    "training$capAve[selectNA]<-NA\n",
    "\n",
    "#Imput and standardize\n",
    "preObj<-preProcess(training[-58],method=\"knnImpute\")\n",
    "capAve<-predict(preObj,training[,-58])$capAve\n",
    "\n",
    "#Standardizde the values\n",
    "capAveTruth<-training$capitalAve\n",
    "capAveTruth<-(capAveTruth-mean(capAveTruth))/sd(capAveTruth)"
   ]
  },
  {
   "cell_type": "code",
   "execution_count": 16,
   "metadata": {
    "collapsed": false,
    "scrolled": true
   },
   "outputs": [
    {
     "data": {
      "text/html": [
       "<dl class=dl-horizontal>\n",
       "\t<dt>0%</dt>\n",
       "\t\t<dd>-1.83242318078138</dd>\n",
       "\t<dt>25%</dt>\n",
       "\t\t<dd>0.000829053471765026</dd>\n",
       "\t<dt>50%</dt>\n",
       "\t\t<dd>0.0022260075912669</dd>\n",
       "\t<dt>75%</dt>\n",
       "\t\t<dd>0.00514231932057473</dd>\n",
       "\t<dt>100%</dt>\n",
       "\t\t<dd>2.13985724731082</dd>\n",
       "</dl>\n"
      ],
      "text/latex": [
       "\\begin{description*}\n",
       "\\item[0\\textbackslash{}\\%] -1.83242318078138\n",
       "\\item[25\\textbackslash{}\\%] 0.000829053471765026\n",
       "\\item[50\\textbackslash{}\\%] 0.0022260075912669\n",
       "\\item[75\\textbackslash{}\\%] 0.00514231932057473\n",
       "\\item[100\\textbackslash{}\\%] 2.13985724731082\n",
       "\\end{description*}\n"
      ],
      "text/markdown": [
       "0%\n",
       ":   -1.8324231807813825%\n",
       ":   0.00082905347176502650%\n",
       ":   0.002226007591266975%\n",
       ":   0.00514231932057473100%\n",
       ":   2.13985724731082\n",
       "\n"
      ],
      "text/plain": [
       "           0%           25%           50%           75%          100% \n",
       "-1.8324231808  0.0008290535  0.0022260076  0.0051423193  2.1398572473 "
      ]
     },
     "metadata": {},
     "output_type": "display_data"
    }
   ],
   "source": [
    "quantile(capAve - capAveTruth)"
   ]
  },
  {
   "cell_type": "code",
   "execution_count": 17,
   "metadata": {
    "collapsed": false
   },
   "outputs": [
    {
     "data": {
      "text/html": [
       "<dl class=dl-horizontal>\n",
       "\t<dt>0%</dt>\n",
       "\t\t<dd>-1.83242318078138</dd>\n",
       "\t<dt>25%</dt>\n",
       "\t\t<dd>-0.0213180523356238</dd>\n",
       "\t<dt>50%</dt>\n",
       "\t\t<dd>0.00271066334200874</dd>\n",
       "\t<dt>75%</dt>\n",
       "\t\t<dd>0.020651536384389</dd>\n",
       "\t<dt>100%</dt>\n",
       "\t\t<dd>0.188434931599513</dd>\n",
       "</dl>\n"
      ],
      "text/latex": [
       "\\begin{description*}\n",
       "\\item[0\\textbackslash{}\\%] -1.83242318078138\n",
       "\\item[25\\textbackslash{}\\%] -0.0213180523356238\n",
       "\\item[50\\textbackslash{}\\%] 0.00271066334200874\n",
       "\\item[75\\textbackslash{}\\%] 0.020651536384389\n",
       "\\item[100\\textbackslash{}\\%] 0.188434931599513\n",
       "\\end{description*}\n"
      ],
      "text/markdown": [
       "0%\n",
       ":   -1.8324231807813825%\n",
       ":   -0.021318052335623850%\n",
       ":   0.0027106633420087475%\n",
       ":   0.020651536384389100%\n",
       ":   0.188434931599513\n",
       "\n"
      ],
      "text/plain": [
       "          0%          25%          50%          75%         100% \n",
       "-1.832423181 -0.021318052  0.002710663  0.020651536  0.188434932 "
      ]
     },
     "metadata": {},
     "output_type": "display_data"
    }
   ],
   "source": [
    "quantile((capAve - capAveTruth)[selectNA])"
   ]
  },
  {
   "cell_type": "code",
   "execution_count": 18,
   "metadata": {
    "collapsed": false
   },
   "outputs": [
    {
     "data": {
      "text/html": [
       "<dl class=dl-horizontal>\n",
       "\t<dt>0%</dt>\n",
       "\t\t<dd>-0.000260920465704473</dd>\n",
       "\t<dt>25%</dt>\n",
       "\t\t<dd>0.000889283760644802</dd>\n",
       "\t<dt>50%</dt>\n",
       "\t\t<dd>0.0022260075912669</dd>\n",
       "\t<dt>75%</dt>\n",
       "\t\t<dd>0.00497911466683598</dd>\n",
       "\t<dt>100%</dt>\n",
       "\t\t<dd>2.13985724731082</dd>\n",
       "</dl>\n"
      ],
      "text/latex": [
       "\\begin{description*}\n",
       "\\item[0\\textbackslash{}\\%] -0.000260920465704473\n",
       "\\item[25\\textbackslash{}\\%] 0.000889283760644802\n",
       "\\item[50\\textbackslash{}\\%] 0.0022260075912669\n",
       "\\item[75\\textbackslash{}\\%] 0.00497911466683598\n",
       "\\item[100\\textbackslash{}\\%] 2.13985724731082\n",
       "\\end{description*}\n"
      ],
      "text/markdown": [
       "0%\n",
       ":   -0.00026092046570447325%\n",
       ":   0.00088928376064480250%\n",
       ":   0.002226007591266975%\n",
       ":   0.00497911466683598100%\n",
       ":   2.13985724731082\n",
       "\n"
      ],
      "text/plain": [
       "           0%           25%           50%           75%          100% \n",
       "-0.0002609205  0.0008892838  0.0022260076  0.0049791147  2.1398572473 "
      ]
     },
     "metadata": {},
     "output_type": "display_data"
    }
   ],
   "source": [
    "quantile((capAve - capAveTruth)[!selectNA])"
   ]
  }
 ],
 "metadata": {
  "kernelspec": {
   "display_name": "R",
   "language": "R",
   "name": "ir"
  },
  "language_info": {
   "codemirror_mode": "r",
   "file_extension": ".r",
   "mimetype": "text/x-r-source",
   "name": "R",
   "pygments_lexer": "r",
   "version": "3.3.1"
  }
 },
 "nbformat": 4,
 "nbformat_minor": 0
}
