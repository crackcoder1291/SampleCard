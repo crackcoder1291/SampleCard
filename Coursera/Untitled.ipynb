{
 "cells": [
  {
   "cell_type": "code",
   "execution_count": 2,
   "metadata": {
    "collapsed": false,
    "scrolled": true
   },
   "outputs": [
    {
     "data": {
      "text/html": [
       "<table>\n",
       "<thead><tr><th></th><th scope=col>make</th><th scope=col>address</th><th scope=col>all</th><th scope=col>num3d</th><th scope=col>our</th><th scope=col>over</th><th scope=col>remove</th><th scope=col>internet</th><th scope=col>order</th><th scope=col>mail</th><th scope=col>⋯</th><th scope=col>charSemicolon</th><th scope=col>charRoundbracket</th><th scope=col>charSquarebracket</th><th scope=col>charExclamation</th><th scope=col>charDollar</th><th scope=col>charHash</th><th scope=col>capitalAve</th><th scope=col>capitalLong</th><th scope=col>capitalTotal</th><th scope=col>type</th></tr></thead>\n",
       "<tbody>\n",
       "\t<tr><th scope=row>1</th><td>0    </td><td>0.64 </td><td>0.64 </td><td>0    </td><td>0.32 </td><td>0    </td><td>0    </td><td>0    </td><td>0    </td><td>0    </td><td>⋯    </td><td>0    </td><td>0    </td><td>0    </td><td>0.778</td><td>0    </td><td>0    </td><td>3.756</td><td>61   </td><td>278  </td><td>spam </td></tr>\n",
       "\t<tr><th scope=row>2</th><td>0.21 </td><td>0.28 </td><td>0.5  </td><td>0    </td><td>0.14 </td><td>0.28 </td><td>0.21 </td><td>0.07 </td><td>0    </td><td>0.94 </td><td>⋯    </td><td>0    </td><td>0.132</td><td>0    </td><td>0.372</td><td>0.18 </td><td>0.048</td><td>5.114</td><td>101  </td><td>1028 </td><td>spam </td></tr>\n",
       "\t<tr><th scope=row>3</th><td>0.06 </td><td>0    </td><td>0.71 </td><td>0    </td><td>1.23 </td><td>0.19 </td><td>0.19 </td><td>0.12 </td><td>0.64 </td><td>0.25 </td><td>⋯    </td><td>0.01 </td><td>0.143</td><td>0    </td><td>0.276</td><td>0.184</td><td>0.01 </td><td>9.821</td><td>485  </td><td>2259 </td><td>spam </td></tr>\n",
       "\t<tr><th scope=row>4</th><td>0    </td><td>0    </td><td>0    </td><td>0    </td><td>0.63 </td><td>0    </td><td>0.31 </td><td>0.63 </td><td>0.31 </td><td>0.63 </td><td>⋯    </td><td>0    </td><td>0.137</td><td>0    </td><td>0.137</td><td>0    </td><td>0    </td><td>3.537</td><td>40   </td><td>191  </td><td>spam </td></tr>\n",
       "\t<tr><th scope=row>5</th><td>0    </td><td>0    </td><td>0    </td><td>0    </td><td>0.63 </td><td>0    </td><td>0.31 </td><td>0.63 </td><td>0.31 </td><td>0.63 </td><td>⋯    </td><td>0    </td><td>0.135</td><td>0    </td><td>0.135</td><td>0    </td><td>0    </td><td>3.537</td><td>40   </td><td>191  </td><td>spam </td></tr>\n",
       "\t<tr><th scope=row>6</th><td>0    </td><td>0    </td><td>0    </td><td>0    </td><td>1.85 </td><td>0    </td><td>0    </td><td>1.85 </td><td>0    </td><td>0    </td><td>⋯    </td><td>0    </td><td>0.223</td><td>0    </td><td>0    </td><td>0    </td><td>0    </td><td>3    </td><td>15   </td><td>54   </td><td>spam </td></tr>\n",
       "</tbody>\n",
       "</table>\n"
      ],
      "text/latex": [
       "\\begin{tabular}{r|llllllllllllllllllllllllllllllllllllllllllllllllllllllllll}\n",
       "  & make & address & all & num3d & our & over & remove & internet & order & mail & ⋯ & charSemicolon & charRoundbracket & charSquarebracket & charExclamation & charDollar & charHash & capitalAve & capitalLong & capitalTotal & type\\\\\n",
       "\\hline\n",
       "\t1 & 0     & 0.64  & 0.64  & 0     & 0.32  & 0     & 0     & 0     & 0     & 0     & ⋯     & 0     & 0     & 0     & 0.778 & 0     & 0     & 3.756 & 61    & 278   & spam \\\\\n",
       "\t2 & 0.21  & 0.28  & 0.5   & 0     & 0.14  & 0.28  & 0.21  & 0.07  & 0     & 0.94  & ⋯     & 0     & 0.132 & 0     & 0.372 & 0.18  & 0.048 & 5.114 & 101   & 1028  & spam \\\\\n",
       "\t3 & 0.06  & 0     & 0.71  & 0     & 1.23  & 0.19  & 0.19  & 0.12  & 0.64  & 0.25  & ⋯     & 0.01  & 0.143 & 0     & 0.276 & 0.184 & 0.01  & 9.821 & 485   & 2259  & spam \\\\\n",
       "\t4 & 0     & 0     & 0     & 0     & 0.63  & 0     & 0.31  & 0.63  & 0.31  & 0.63  & ⋯     & 0     & 0.137 & 0     & 0.137 & 0     & 0     & 3.537 & 40    & 191   & spam \\\\\n",
       "\t5 & 0     & 0     & 0     & 0     & 0.63  & 0     & 0.31  & 0.63  & 0.31  & 0.63  & ⋯     & 0     & 0.135 & 0     & 0.135 & 0     & 0     & 3.537 & 40    & 191   & spam \\\\\n",
       "\t6 & 0     & 0     & 0     & 0     & 1.85  & 0     & 0     & 1.85  & 0     & 0     & ⋯     & 0     & 0.223 & 0     & 0     & 0     & 0     & 3     & 15    & 54    & spam \\\\\n",
       "\\end{tabular}\n"
      ],
      "text/plain": [
       "  make address  all num3d  our over remove internet order mail ⋯ charSemicolon\n",
       "1 0.00    0.64 0.64     0 0.32 0.00   0.00     0.00  0.00 0.00 ⋯          0.00\n",
       "2 0.21    0.28 0.50     0 0.14 0.28   0.21     0.07  0.00 0.94 ⋯          0.00\n",
       "3 0.06    0.00 0.71     0 1.23 0.19   0.19     0.12  0.64 0.25 ⋯          0.01\n",
       "4 0.00    0.00 0.00     0 0.63 0.00   0.31     0.63  0.31 0.63 ⋯          0.00\n",
       "5 0.00    0.00 0.00     0 0.63 0.00   0.31     0.63  0.31 0.63 ⋯          0.00\n",
       "6 0.00    0.00 0.00     0 1.85 0.00   0.00     1.85  0.00 0.00 ⋯          0.00\n",
       "  charRoundbracket charSquarebracket charExclamation charDollar charHash\n",
       "1            0.000                 0           0.778      0.000    0.000\n",
       "2            0.132                 0           0.372      0.180    0.048\n",
       "3            0.143                 0           0.276      0.184    0.010\n",
       "4            0.137                 0           0.137      0.000    0.000\n",
       "5            0.135                 0           0.135      0.000    0.000\n",
       "6            0.223                 0           0.000      0.000    0.000\n",
       "  capitalAve capitalLong capitalTotal type\n",
       "1      3.756          61          278 spam\n",
       "2      5.114         101         1028 spam\n",
       "3      9.821         485         2259 spam\n",
       "4      3.537          40          191 spam\n",
       "5      3.537          40          191 spam\n",
       "6      3.000          15           54 spam"
      ]
     },
     "metadata": {},
     "output_type": "display_data"
    }
   ],
   "source": [
    "library(kernlab)\n",
    "data(spam)\n",
    "head(spam)"
   ]
  },
  {
   "cell_type": "code",
   "execution_count": 3,
   "metadata": {
    "collapsed": false
   },
   "outputs": [
    {
     "name": "stderr",
     "output_type": "stream",
     "text": [
      "Warning message:\n",
      "“In density.default(spam$your[spam$type == \"spam\"], col = \"red\") :\n",
      " extra argument ‘col’ will be disregarded”"
     ]
    },
    {
     "data": {
      "image/png": "[encoded data removed]",
      "text/plain": [
       "Plot with title “”"
      ]
     },
     "metadata": {},
     "output_type": "display_data"
    }
   ],
   "source": [
    "plot(density(spam$your[spam$type==\"nonspam\"]),col=\"blue\",main=\"\",xlab=\"Frequency of 'your'\")\n",
    "lines(density(spam$your[spam$type==\"spam\"],col=\"red\"))\n",
    "abline(v=0.5,col=\"black\")\n"
   ]
  },
  {
   "cell_type": "code",
   "execution_count": 8,
   "metadata": {
    "collapsed": false
   },
   "outputs": [
    {
     "data": {
      "text/plain": [
       "          \n",
       "prediction   nonspam      spam\n",
       "   nonspam 0.4590306 0.1017170\n",
       "   spam    0.1469246 0.2923278"
      ]
     },
     "metadata": {},
     "output_type": "display_data"
    }
   ],
   "source": [
    "prediction <- ifelse(spam$your > 0.5,\"spam\",\"nonspam\")\n",
    "table(prediction,spam$type)/length(spam$type)"
   ]
  },
  {
   "cell_type": "code",
   "execution_count": 12,
   "metadata": {
    "collapsed": false
   },
   "outputs": [
    {
     "data": {
      "image/png": "[encoded data removed]",
      "text/plain": [
       "plot without title"
      ]
     },
     "metadata": {},
     "output_type": "display_data"
    }
   ],
   "source": [
    "library(kernlab);\n",
    "data(spam);\n",
    "set.seed(333)\n",
    "smallSpam<-spam[sample(dim(spam)[1],size=10),]\n",
    "spamLabel<-(smallSpam$type==\"spam\")*1+1\n",
    "plot(smallSpam$capitalAve,col=spamLabel)"
   ]
  },
  {
   "cell_type": "code",
   "execution_count": 17,
   "metadata": {
    "collapsed": false
   },
   "outputs": [
    {
     "data": {
      "text/plain": [
       "         \n",
       "          nonspam spam\n",
       "  nonspam       4    0\n",
       "  spam          0    4"
      ]
     },
     "metadata": {},
     "output_type": "display_data"
    }
   ],
   "source": [
    "rule1<-function(x){\n",
    "    prediction<-rep(NA,length(x))\n",
    "    prediction[x>2.7]=\"spam\"\n",
    "    prediction[x<2.40]=\"nonspam\"\n",
    "    prediction[(x>=2.40 && x<=2.45)]<-\"spam\"\n",
    "    prediction[(x>2.45 && x<=2.70)]<-\"nonspam\"\n",
    "    return(prediction)\n",
    "}\n",
    "table(rule1(smallSpam$capitalAve),smallSpam$type)"
   ]
  },
  {
   "cell_type": "code",
   "execution_count": 25,
   "metadata": {
    "collapsed": false
   },
   "outputs": [
    {
     "data": {
      "text/plain": [
       "         \n",
       "          nonspam spam\n",
       "  nonspam       5    1\n",
       "  spam          0    4"
      ]
     },
     "metadata": {},
     "output_type": "display_data"
    }
   ],
   "source": [
    "rule2<-function(x){\n",
    "    prediction<-rep(NA,length(x))\n",
    "    prediction[x>2.8]<-\"spam\"\n",
    "    prediction[x<=2.8]<-\"nonspam\"\n",
    "    return(prediction)\n",
    "}\n",
    "table(rule2(smallSpam$capitalAve),smallSpam$type)"
   ]
  }
 ],
 "metadata": {
  "kernelspec": {
   "display_name": "R",
   "language": "R",
   "name": "ir"
  },
  "language_info": {
   "codemirror_mode": "r",
   "file_extension": ".r",
   "mimetype": "text/x-r-source",
   "name": "R",
   "pygments_lexer": "r",
   "version": "3.3.1"
  }
 },
 "nbformat": 4,
 "nbformat_minor": 0
}
